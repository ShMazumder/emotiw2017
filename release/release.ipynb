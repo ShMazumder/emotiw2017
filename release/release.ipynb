{
 "cells": [
  {
   "cell_type": "code",
   "execution_count": 1,
   "metadata": {},
   "outputs": [
    {
     "name": "stderr",
     "output_type": "stream",
     "text": [
      "Using TensorFlow backend.\n"
     ]
    }
   ],
   "source": [
    "import os\n",
    "import numpy as np\n",
    "import dlib\n",
    "import cv2\n",
    "from scipy.misc import *\n",
    "import matplotlib.pyplot as plt\n",
    "from glob import glob\n",
    "from keras.engine import  Model\n",
    "from keras.layers import Input\n",
    "from keras_vggface.vggface import VGGFace\n",
    "from sklearn.ensemble import RandomForestClassifier\n",
    "from sklearn.ensemble import GradientBoostingClassifier\n",
    "from sklearn.multiclass import OneVsRestClassifier\n",
    "from sklearn.metrics import confusion_matrix\n",
    "from sklearn.feature_selection import SelectFromModel\n",
    "from sklearn.pipeline import Pipeline\n",
    "import itertools\n",
    "from sklearn.cluster import KMeans, SpectralClustering\n",
    "%matplotlib inline"
   ]
  },
  {
   "cell_type": "code",
   "execution_count": 2,
   "metadata": {
    "collapsed": true
   },
   "outputs": [],
   "source": [
    "def log_progress(sequence, every=None, size=None, name='Items'):\n",
    "    from ipywidgets import IntProgress, HTML, VBox\n",
    "    from IPython.display import display\n",
    "\n",
    "    is_iterator = False\n",
    "    if size is None:\n",
    "        try:\n",
    "            size = len(sequence)\n",
    "        except TypeError:\n",
    "            is_iterator = True\n",
    "    if size is not None:\n",
    "        if every is None:\n",
    "            if size <= 200:\n",
    "                every = 1\n",
    "            else:\n",
    "                every = int(size / 200)     # every 0.5%\n",
    "    else:\n",
    "        assert every is not None, 'sequence is iterator, set every'\n",
    "\n",
    "    if is_iterator:\n",
    "        progress = IntProgress(min=0, max=1, value=1)\n",
    "        progress.bar_style = 'info'\n",
    "    else:\n",
    "        progress = IntProgress(min=0, max=size, value=0)\n",
    "    label = HTML()\n",
    "    box = VBox(children=[label, progress])\n",
    "    display(box)\n",
    "\n",
    "    index = 0\n",
    "    try:\n",
    "        for index, record in enumerate(sequence, 1):\n",
    "            if index == 1 or index % every == 0:\n",
    "                if is_iterator:\n",
    "                    label.value = '{name}: {index} / ?'.format(\n",
    "                        name=name,\n",
    "                        index=index\n",
    "                    )\n",
    "                else:\n",
    "                    progress.value = index\n",
    "                    label.value = u'{name}: {index} / {size}'.format(\n",
    "                        name=name,\n",
    "                        index=index,\n",
    "                        size=size\n",
    "                    )\n",
    "            yield record\n",
    "    except:\n",
    "        progress.bar_style = 'danger'\n",
    "        raise\n",
    "    else:\n",
    "        progress.bar_style = 'success'\n",
    "        progress.value = index\n",
    "        label.value = \"{name}: {index}\".format(\n",
    "            name=name,\n",
    "            index=str(index or '?')\n",
    "        )"
   ]
  },
  {
   "cell_type": "code",
   "execution_count": 9,
   "metadata": {
    "collapsed": true
   },
   "outputs": [],
   "source": [
    "CLASS2LBL = {'Negative': 0, 'Neutral': 1, 'Positive': 2}\n",
    "LBL2CLASS = {0: 'Negative', 1: 'Neutral', 2: 'Positive'}\n",
    "\n",
    "def parse_lbl(fname):\n",
    "    _class = fname.split('/')[-2]\n",
    "    return CLASS2LBL[_class]"
   ]
  },
  {
   "cell_type": "code",
   "execution_count": 4,
   "metadata": {
    "collapsed": true
   },
   "outputs": [],
   "source": [
    "def plot_confusion_matrix(cm, classes,\n",
    "                          normalize=False,\n",
    "                          cmap=plt.cm.Blues):\n",
    "    plt.figure(figsize=(15, 10))\n",
    "\n",
    "    if normalize:\n",
    "        cm = cm.astype('float') / cm.sum(axis=1)[:, np.newaxis]\n",
    "        cm = np.round(cm, 2)\n",
    "        print(cm)\n",
    "    \n",
    "    plt.imshow(cm, interpolation='nearest', cmap=cmap)\n",
    "    plt.title('Confusion matrix')\n",
    "    plt.colorbar()\n",
    "    tick_marks = np.arange(len(classes))\n",
    "    plt.xticks(tick_marks, classes, rotation=45)\n",
    "    plt.yticks(tick_marks, classes)\n",
    "\n",
    "    thresh = cm.max() / 2.\n",
    "    for i, j in itertools.product(range(cm.shape[0]), range(cm.shape[1])):\n",
    "        plt.text(j, i, cm[i, j],\n",
    "                 horizontalalignment=\"center\",\n",
    "                 color=\"white\" if cm[i, j] > thresh else \"black\")\n",
    "\n",
    "    plt.tight_layout()\n",
    "    plt.ylabel('True labels')\n",
    "    plt.xlabel('Predicted labels')\n",
    "    plt.savefig('confusion_release.png')"
   ]
  },
  {
   "cell_type": "markdown",
   "metadata": {},
   "source": [
    "## 1. Соберем лица и лендмарки"
   ]
  },
  {
   "cell_type": "code",
   "execution_count": 5,
   "metadata": {
    "collapsed": true
   },
   "outputs": [],
   "source": [
    "DATA_PATH = '/home/_datasets_/emotiw2017/'\n",
    "TRAIN_DIR = 'train'\n",
    "VAL_DIR = 'val'\n",
    "TEST_DIR = 'test'\n",
    "IMG_TMPL = '*.jpg'\n",
    "PREDICTOR_PATH = '/home/arassadin/distr/shape_predictor_68_face_landmarks.dat'\n",
    "OUT_SIZE = (224, 224)"
   ]
  },
  {
   "cell_type": "code",
   "execution_count": 6,
   "metadata": {
    "collapsed": true
   },
   "outputs": [],
   "source": [
    "detector = dlib.get_frontal_face_detector()\n",
    "predictor = dlib.shape_predictor(PREDICTOR_PATH)\n",
    "face_cascade = cv2.CascadeClassifier('/home/arassadin/distr/opencv/data/haarcascades_GPU/haarcascade_frontalface_alt2.xml')"
   ]
  },
  {
   "cell_type": "code",
   "execution_count": 7,
   "metadata": {},
   "outputs": [
    {
     "name": "stdout",
     "output_type": "stream",
     "text": [
      "3630 2065 772\n"
     ]
    }
   ],
   "source": [
    "files_train = glob(os.path.join(DATA_PATH, TRAIN_DIR, '*', '*'))\n",
    "files_val = glob(os.path.join(DATA_PATH, VAL_DIR, '*', '*'))\n",
    "files_test = glob(os.path.join(DATA_PATH, TEST_DIR, '*'))\n",
    "\n",
    "print len(files_train), len(files_val), len(files_test)"
   ]
  },
  {
   "cell_type": "code",
   "execution_count": 8,
   "metadata": {
    "collapsed": true
   },
   "outputs": [],
   "source": [
    "def find_faces_dlib(img):\n",
    "    try:\n",
    "        rects = detector(img, 1)\n",
    "    except:\n",
    "        return None\n",
    "    faces = []\n",
    "\n",
    "    for rect in rects:\n",
    "        y1 = rect.top()\n",
    "        if y1 < 0:\n",
    "            y1 = 0\n",
    "        y2 = rect.bottom()\n",
    "        if y2 > img.shape[0]:\n",
    "            y2 = img.shape[0]\n",
    "        x1 = rect.left()\n",
    "        if x1 < 0:\n",
    "            x1 = 0\n",
    "        x2 = rect.right()\n",
    "        if x2 > img.shape[1]:\n",
    "            x2 = img.shape[1]\n",
    "        faces.append(img[y1:y2, x1:x2])\n",
    "    \n",
    "    return faces"
   ]
  },
  {
   "cell_type": "code",
   "execution_count": 9,
   "metadata": {
    "collapsed": true
   },
   "outputs": [],
   "source": [
    "def find_faces_ocv(img):\n",
    "    gray = cv2.cvtColor(img, cv2.COLOR_RGB2GRAY)\n",
    "    dets = face_cascade.detectMultiScale(gray, 1.3, 4)\n",
    "    faces = [img[y : y + h, x : x + w] for x, y, w, h in dets]        \n",
    "    return faces"
   ]
  },
  {
   "cell_type": "code",
   "execution_count": 10,
   "metadata": {
    "collapsed": true
   },
   "outputs": [],
   "source": [
    "def get_dst(p1, p2):\n",
    "    x1, y1 = p1\n",
    "    x2, y2 = p2\n",
    "    return np.sqrt(np.square(y2 - y1) + np.square(x2 - x1))"
   ]
  },
  {
   "cell_type": "code",
   "execution_count": 11,
   "metadata": {
    "collapsed": true
   },
   "outputs": [],
   "source": [
    "def find_landmarks(face):\n",
    "    bbox = dlib.rectangle(0, 0, face.shape[1] - 1, face.shape[0] - 1)\n",
    "    shape = predictor(face, bbox)\n",
    "    landmarks = [(shape.part(i).x, shape.part(i).y) for i in range(68)]\n",
    "    leftmost = min([l[0] for l in landmarks])\n",
    "    topmost = min([l[1] for l in landmarks])\n",
    "    landmarks = [(l[0] - leftmost, l[1] - topmost) for l in landmarks]\n",
    "    dsts = []\n",
    "    for i in range(68):\n",
    "        for j in range(i + 1, 68):\n",
    "            dsts.append(get_dst(landmarks[i], landmarks[j]))\n",
    "    dsts = np.asarray(dsts)\n",
    "    dsts /= dsts.max()\n",
    "    return dsts"
   ]
  },
  {
   "cell_type": "code",
   "execution_count": null,
   "metadata": {},
   "outputs": [
    {
     "data": {
      "application/vnd.jupyter.widget-view+json": {
       "model_id": "ca194281868840e583028e1608d5ef80"
      }
     },
     "metadata": {},
     "output_type": "display_data"
    },
    {
     "name": "stdout",
     "output_type": "stream",
     "text": [
      "3630 3553 3553\n"
     ]
    },
    {
     "data": {
      "application/vnd.jupyter.widget-view+json": {
       "model_id": "143a835dfb83469093064afda9e78eec"
      }
     },
     "metadata": {},
     "output_type": "display_data"
    }
   ],
   "source": [
    "if not os.path.exists('./data'):\n",
    "    os.makedirs('./data')\n",
    "\n",
    "fault_counter = 0\n",
    "def routine(files):\n",
    "    global fault_counter\n",
    "    data_faces, data_dsts = {}, {}\n",
    "    for fname in log_progress(files):\n",
    "        img = imread(fname, mode='RGB')\n",
    "        faces = find_faces_dlib(img)\n",
    "        if faces is None:\n",
    "            print 'Something wrong with image {}!'.format(fname)\n",
    "            continue\n",
    "        if len(faces) == 0:\n",
    "            faces = find_faces_ocv(img)\n",
    "            if len(faces) == 0:\n",
    "                fault_counter += 1\n",
    "                continue\n",
    "\n",
    "        dsts = [find_landmarks(f) for f in faces]\n",
    "        faces = [imresize(f, OUT_SIZE) for f in faces]\n",
    "        \n",
    "        data_faces[fname] = faces\n",
    "        data_dsts[fname] = dsts\n",
    "    return data_faces, data_dsts\n",
    "\n",
    "faces_train, dsts_train = routine(files_train)\n",
    "np.save('data/faces_train', faces_train); np.save('data/dsts_train', dsts_train)\n",
    "print len(files_train), len(faces_train), len(dsts_train)\n",
    "\n",
    "faces_val, dsts_val = routine(files_val)\n",
    "np.save('data/faces_val', faces_val); np.save('data/dsts_val', dsts_val)\n",
    "print len(files_val), len(faces_val), len(dsts_val)\n",
    "\n",
    "faces_test, dsts_test = routine(files_test[14:])\n",
    "np.save('data/faces_test', faces_test); np.save('data/dsts_test', dsts_test)\n",
    "print len(files_test), len(faces_test), len(dsts_test)\n",
    "\n",
    "print 'No faces found on {} photos'.format(fault_counter)"
   ]
  },
  {
   "cell_type": "code",
   "execution_count": 56,
   "metadata": {},
   "outputs": [
    {
     "name": "stdout",
     "output_type": "stream",
     "text": [
      "[0 1 2]\n",
      "[0 1 2]\n"
     ]
    }
   ],
   "source": [
    "y_train = {}\n",
    "for fname in files_train:\n",
    "    y_train[fname] = parse_lbl(fname)\n",
    "    \n",
    "y_val = {}\n",
    "for fname in files_val:\n",
    "    y_val[fname] = parse_lbl(fname)\n",
    "    \n",
    "print np.unique(y_train.values())\n",
    "print np.unique(y_val.values())\n",
    "\n",
    "np.save('data/y_train', y_train)\n",
    "np.save('data/y_val', y_val)"
   ]
  },
  {
   "cell_type": "markdown",
   "metadata": {},
   "source": [
    "## 2. Сбор нейросетевых скорингов"
   ]
  },
  {
   "cell_type": "code",
   "execution_count": 5,
   "metadata": {
    "collapsed": true
   },
   "outputs": [],
   "source": [
    "def normalize_vggface_1(arr):\n",
    "    arr = arr[::-1, :, :].astype(np.float32)\n",
    "\n",
    "    arr[0, :, :] -= 93.5940\n",
    "    arr[1, :, :] -= 104.7624\n",
    "    arr[2, :, :] -= 129.1863\n",
    "\n",
    "    return arr"
   ]
  },
  {
   "cell_type": "code",
   "execution_count": 6,
   "metadata": {
    "collapsed": true
   },
   "outputs": [],
   "source": [
    "def normalize_vggface_2(arr):\n",
    "    arr = arr[:, :, :].astype(np.float32)\n",
    "\n",
    "    arr[0, :, :] -= 93.5940\n",
    "    arr[1, :, :] -= 104.7624\n",
    "    arr[2, :, :] -= 129.1863\n",
    "\n",
    "    return arr"
   ]
  },
  {
   "cell_type": "code",
   "execution_count": 7,
   "metadata": {
    "collapsed": true
   },
   "outputs": [],
   "source": [
    "def normalize_vggface_3(arr):\n",
    "    arr = arr[::-1, :, :].astype(np.float32)\n",
    "\n",
    "    arr[0, :, :] -= 93.5940\n",
    "    arr[1, :, :] -= 104.7624\n",
    "    arr[2, :, :] -= 129.1863\n",
    "    \n",
    "    arr = arr[::-1, :, :]\n",
    "\n",
    "    return arr"
   ]
  },
  {
   "cell_type": "code",
   "execution_count": 8,
   "metadata": {},
   "outputs": [
    {
     "name": "stderr",
     "output_type": "stream",
     "text": [
      "/usr/local/lib/python2.7/dist-packages/keras_vggface/vggface.py:166: UserWarning: You are using the TensorFlow backend, yet you are using the Theano image data format convention (`image_data_format=\"channels_first\"`). For best performance, set `image_data_format=\"channels_last\"` in your Keras config at ~/.keras/keras.json.\n",
      "  warnings.warn('You are using the TensorFlow backend, yet you '\n"
     ]
    },
    {
     "data": {
      "application/vnd.jupyter.widget-view+json": {
       "model_id": "add3167719804181981ebd0f64bb3425"
      }
     },
     "metadata": {},
     "output_type": "display_data"
    },
    {
     "data": {
      "application/vnd.jupyter.widget-view+json": {
       "model_id": "2548fcfc37444660ad5e4bf2b0cd638b"
      }
     },
     "metadata": {},
     "output_type": "display_data"
    },
    {
     "data": {
      "application/vnd.jupyter.widget-view+json": {
       "model_id": "b02ea3e144764f6598648d4728e74fe0"
      }
     },
     "metadata": {},
     "output_type": "display_data"
    },
    {
     "data": {
      "application/vnd.jupyter.widget-view+json": {
       "model_id": "6b6e10fc3f7a40b5a31c7d44002faa51"
      }
     },
     "metadata": {},
     "output_type": "display_data"
    },
    {
     "data": {
      "application/vnd.jupyter.widget-view+json": {
       "model_id": "c8dfc671e1ef4050ac0a968213f24ee5"
      }
     },
     "metadata": {},
     "output_type": "display_data"
    },
    {
     "data": {
      "application/vnd.jupyter.widget-view+json": {
       "model_id": "7197389117b146ad88d45f1bd0fb46c7"
      }
     },
     "metadata": {},
     "output_type": "display_data"
    },
    {
     "data": {
      "application/vnd.jupyter.widget-view+json": {
       "model_id": "e31fb951e1b14805aac3f13f03f561ec"
      }
     },
     "metadata": {},
     "output_type": "display_data"
    },
    {
     "data": {
      "application/vnd.jupyter.widget-view+json": {
       "model_id": "ce0a1def255340fc9800298ae3520c49"
      }
     },
     "metadata": {},
     "output_type": "display_data"
    },
    {
     "data": {
      "application/vnd.jupyter.widget-view+json": {
       "model_id": "10bb72328c5e4bdaa6d19707a974f03e"
      }
     },
     "metadata": {},
     "output_type": "display_data"
    },
    {
     "data": {
      "application/vnd.jupyter.widget-view+json": {
       "model_id": "7cebdfd4610147bf8683c20d4198808e"
      }
     },
     "metadata": {},
     "output_type": "display_data"
    },
    {
     "data": {
      "application/vnd.jupyter.widget-view+json": {
       "model_id": "b51057a2219d40f3878c9d15a6c925cc"
      }
     },
     "metadata": {},
     "output_type": "display_data"
    },
    {
     "data": {
      "application/vnd.jupyter.widget-view+json": {
       "model_id": "fa68ec01d395457296ca6882ba296c48"
      }
     },
     "metadata": {},
     "output_type": "display_data"
    }
   ],
   "source": [
    "def routine1(data, model, norm_f):\n",
    "    scores = {}\n",
    "    for fname in log_progress(data.keys()):\n",
    "#         _class = fname.split('/')[-2]\n",
    "#         lbl = CLASS2LBL[_class]\n",
    "#         scores_y.append(lbl)\n",
    "        \n",
    "        if len(data[fname]) < 1:\n",
    "            continue\n",
    "        faces = np.asarray([norm_f(np.moveaxis(face, 2, 0)) for face in data[fname]])\n",
    "        preds = model.predict(faces)\n",
    "        scores[fname] = np.median(preds, axis=0)\n",
    "        # break\n",
    "    return scores\n",
    "\n",
    "def routine2(fname, model, m='default'):\n",
    "    data = np.load(fname).item()\n",
    "    for i, norm_f in zip([1, 3], [normalize_vggface_1, normalize_vggface_3]):\n",
    "        scores = routine1(data, model, norm_f)\n",
    "        postfix = os.path.basename(fname).split('_')[-1]\n",
    "        np.save('data/scores_{}_norm={}_model={}'.format(postfix, i, m), scores)\n",
    "\n",
    "model = VGGFace(include_top=False, input_shape=(3, 224, 224), pooling='avg')\n",
    "routine2('data/faces_train.npy', model, m='vgg-face-avgpool')\n",
    "routine2('data/faces_val.npy', model, m='vgg-face-avgpool')\n",
    "routine2('data/faces_test.npy', model, m='vgg-face-avgpool')\n",
    "\n",
    "vgg_faces = VGGFace()\n",
    "out = vgg_faces.get_layer('fc7').output\n",
    "model = Model(vgg_faces.input, out)\n",
    "routine2('data/faces_train.npy', model, m='vgg-face-fc7')\n",
    "routine2('data/faces_val.npy', model, m='vgg-face-fc7')\n",
    "routine2('data/faces_test.npy', model, m='vgg-face-fc7')"
   ]
  },
  {
   "cell_type": "markdown",
   "metadata": {},
   "source": [
    "## 3. Обучение слабых классификаторов и сбор их скорингов"
   ]
  },
  {
   "cell_type": "code",
   "execution_count": 5,
   "metadata": {
    "collapsed": true
   },
   "outputs": [],
   "source": [
    "def parse_X_y_flat(d):\n",
    "    X, y = [], []\n",
    "    for fname in log_progress(d.keys()):\n",
    "        for el in d[fname]:\n",
    "            y.append(parse_lbl(fname))\n",
    "            X.append(el)\n",
    "    X = np.asarray(X)\n",
    "    y = np.asarray(y, np.uint8)\n",
    "    return X, y"
   ]
  },
  {
   "cell_type": "code",
   "execution_count": 6,
   "metadata": {
    "collapsed": true
   },
   "outputs": [],
   "source": [
    "def parse_X_flat(d):\n",
    "    X = []\n",
    "    for fname in log_progress(d.keys()):\n",
    "        for el in d[fname]:\n",
    "            X.append(el)\n",
    "    X = np.asarray(X)\n",
    "    return X"
   ]
  },
  {
   "cell_type": "code",
   "execution_count": 7,
   "metadata": {
    "collapsed": true
   },
   "outputs": [],
   "source": [
    "def parse_X_y(d):\n",
    "    X, y = [], []\n",
    "    for fname in log_progress(d.keys()):\n",
    "        X.append(d[fname])\n",
    "        y.append(parse_lbl(fname))\n",
    "    X = np.asarray(X)\n",
    "    y = np.asarray(y, np.uint8)\n",
    "    return X, y, d.keys()"
   ]
  },
  {
   "cell_type": "code",
   "execution_count": 8,
   "metadata": {
    "collapsed": true
   },
   "outputs": [],
   "source": [
    "def parse_X(d):\n",
    "    X = []\n",
    "    for fname in log_progress(d.keys()):\n",
    "        X.append(d[fname])\n",
    "    X = np.asarray(X)\n",
    "    return X, d.keys()"
   ]
  },
  {
   "cell_type": "code",
   "execution_count": 9,
   "metadata": {
    "collapsed": true
   },
   "outputs": [],
   "source": [
    "def probs_deflate(probs_pred, d):\n",
    "    probs_deflated = {}\n",
    "\n",
    "    cur_position = 0\n",
    "    for fname in log_progress(d.keys()):\n",
    "        q = len(d[fname])\n",
    "        score = np.sum(probs_pred[cur_position : cur_position + q], axis=0)\n",
    "        probs_deflated[fname] = score\n",
    "        cur_position += q\n",
    "    #     break\n",
    "\n",
    "    return probs_deflated"
   ]
  },
  {
   "cell_type": "code",
   "execution_count": 10,
   "metadata": {
    "collapsed": true
   },
   "outputs": [],
   "source": [
    "def get_scores(y_true, probs_pred):\n",
    "    accuracy = 0.0\n",
    "    for f in log_progress(probs_pred.keys()):\n",
    "        if y_true[f] == np.argmax(probs_pred[f]):\n",
    "            accuracy += 1\n",
    "    return accuracy / len(probs_pred)"
   ]
  },
  {
   "cell_type": "markdown",
   "metadata": {},
   "source": [
    "### train / val"
   ]
  },
  {
   "cell_type": "markdown",
   "metadata": {},
   "source": [
    "**Лендмарки:**"
   ]
  },
  {
   "cell_type": "code",
   "execution_count": 11,
   "metadata": {},
   "outputs": [
    {
     "data": {
      "application/vnd.jupyter.widget-view+json": {
       "model_id": "1bbd2d47947b41f3b81697002d8dbdc7"
      }
     },
     "metadata": {},
     "output_type": "display_data"
    },
    {
     "data": {
      "application/vnd.jupyter.widget-view+json": {
       "model_id": "69eedc037dbb499ab407a1cf11169338"
      }
     },
     "metadata": {},
     "output_type": "display_data"
    },
    {
     "name": "stdout",
     "output_type": "stream",
     "text": [
      "(12826, 2278) (12826,)\n",
      "(7247, 2278) (7247,)\n"
     ]
    }
   ],
   "source": [
    "dsts_X_train, dsts_y_train = parse_X_y_flat(np.load('data/dsts_train.npy').item())\n",
    "dsts_val = np.load('data/dsts_val.npy').item()\n",
    "dsts_X_val, dsts_y_val = parse_X_y_flat(dsts_val)\n",
    "\n",
    "print dsts_X_train.shape, dsts_y_train.shape\n",
    "print dsts_X_val.shape, dsts_y_val.shape"
   ]
  },
  {
   "cell_type": "code",
   "execution_count": 12,
   "metadata": {
    "collapsed": true
   },
   "outputs": [],
   "source": [
    "predictor_dsts = OneVsRestClassifier(RandomForestClassifier(n_estimators=5000, n_jobs=16)).fit(dsts_X_train, dsts_y_train)"
   ]
  },
  {
   "cell_type": "code",
   "execution_count": 13,
   "metadata": {},
   "outputs": [
    {
     "data": {
      "text/plain": [
       "Pipeline(steps=[('feature_selection', SelectFromModel(estimator=RandomForestClassifier(bootstrap=True, class_weight=None, criterion='gini',\n",
       "            max_depth=None, max_features='auto', max_leaf_nodes=None,\n",
       "            min_impurity_split=1e-07, min_samples_leaf=1,\n",
       "            min_samples_split=2, min_weig... random_state=None,\n",
       "              subsample=1.0, verbose=0, warm_start=False),\n",
       "          n_jobs=1))])"
      ]
     },
     "execution_count": 13,
     "metadata": {},
     "output_type": "execute_result"
    }
   ],
   "source": [
    "predictor_dsts = Pipeline([\n",
    "  ('feature_selection', SelectFromModel(RandomForestClassifier(n_estimators=100))),\n",
    "  ('classification', OneVsRestClassifier(GradientBoostingClassifier(n_estimators=1000)))\n",
    "])\n",
    "predictor_dsts.fit(dsts_X_train, dsts_y_train)"
   ]
  },
  {
   "cell_type": "code",
   "execution_count": 13,
   "metadata": {},
   "outputs": [
    {
     "name": "stdout",
     "output_type": "stream",
     "text": [
      "(7247, 3)\n"
     ]
    }
   ],
   "source": [
    "tmp_probs = predictor_dsts.predict_proba(dsts_X_val)\n",
    "print tmp_probs.shape"
   ]
  },
  {
   "cell_type": "code",
   "execution_count": 14,
   "metadata": {},
   "outputs": [
    {
     "data": {
      "application/vnd.jupyter.widget-view+json": {
       "model_id": "6ba0decdf85648428ab0a76184b1c29d"
      }
     },
     "metadata": {},
     "output_type": "display_data"
    },
    {
     "name": "stdout",
     "output_type": "stream",
     "text": [
      "2020\n"
     ]
    }
   ],
   "source": [
    "dsts_probs_pred = probs_deflate(tmp_probs, dsts_val)\n",
    "print len(dsts_probs_pred)"
   ]
  },
  {
   "cell_type": "code",
   "execution_count": 15,
   "metadata": {},
   "outputs": [
    {
     "data": {
      "application/vnd.jupyter.widget-view+json": {
       "model_id": "04b6d627f199433690af20091670ca77"
      }
     },
     "metadata": {},
     "output_type": "display_data"
    },
    {
     "name": "stdout",
     "output_type": "stream",
     "text": [
      "0.641089108911\n"
     ]
    }
   ],
   "source": [
    "print get_scores(np.load('data/y_val.npy').item(), dsts_probs_pred)"
   ]
  },
  {
   "cell_type": "code",
   "execution_count": 16,
   "metadata": {
    "collapsed": true
   },
   "outputs": [],
   "source": [
    "np.save('data/probs_dsts_val', dsts_probs_pred)"
   ]
  },
  {
   "cell_type": "raw",
   "metadata": {
    "collapsed": true
   },
   "source": [
    "scorings_all = probs_deflate(predictor_dsts.predict_proba(dsts_X_train), np.load('data/dsts_train.npy').item())"
   ]
  },
  {
   "cell_type": "markdown",
   "metadata": {},
   "source": [
    "**Нейронки:**"
   ]
  },
  {
   "cell_type": "code",
   "execution_count": 19,
   "metadata": {
    "collapsed": true
   },
   "outputs": [],
   "source": [
    "nn_scores_train_fnames = ['data/scores_train.npy_norm=1_model=vgg-face-avgpool.npy',\n",
    "                          'data/scores_train.npy_norm=1_model=vgg-face-fc7.npy',\n",
    "                          'data/scores_train.npy_norm=3_model=vgg-face-avgpool.npy',\n",
    "                          'data/scores_train.npy_norm=3_model=vgg-face-fc7.npy']\n",
    "nn_scores_val_fnames = ['data/scores_val.npy_norm=1_model=vgg-face-avgpool.npy',\n",
    "                        'data/scores_val.npy_norm=1_model=vgg-face-fc7.npy',\n",
    "                        'data/scores_val.npy_norm=3_model=vgg-face-avgpool.npy',\n",
    "                        'data/scores_val.npy_norm=3_model=vgg-face-fc7.npy']"
   ]
  },
  {
   "cell_type": "code",
   "execution_count": 20,
   "metadata": {},
   "outputs": [
    {
     "name": "stdout",
     "output_type": "stream",
     "text": [
      "4 4\n"
     ]
    }
   ],
   "source": [
    "nn_scores_train = [np.load(x).item() for x in nn_scores_train_fnames]\n",
    "nn_scores_val = [np.load(x).item() for x in nn_scores_val_fnames]\n",
    "\n",
    "print len(nn_scores_train), len(nn_scores_val)"
   ]
  },
  {
   "cell_type": "code",
   "execution_count": 21,
   "metadata": {},
   "outputs": [
    {
     "data": {
      "application/vnd.jupyter.widget-view+json": {
       "model_id": "8a620b2b2ec9475789f3c93618442026"
      }
     },
     "metadata": {},
     "output_type": "display_data"
    },
    {
     "data": {
      "application/vnd.jupyter.widget-view+json": {
       "model_id": "d1d86e03bd8940a5a452004ba0093216"
      }
     },
     "metadata": {},
     "output_type": "display_data"
    },
    {
     "data": {
      "application/vnd.jupyter.widget-view+json": {
       "model_id": "3e506b0ef2884481a32b428840444e7c"
      }
     },
     "metadata": {},
     "output_type": "display_data"
    },
    {
     "data": {
      "application/vnd.jupyter.widget-view+json": {
       "model_id": "f96d7a65cf794be3bf9061129a9a7695"
      }
     },
     "metadata": {},
     "output_type": "display_data"
    },
    {
     "data": {
      "application/vnd.jupyter.widget-view+json": {
       "model_id": "a05c82c0bf3644f3881282671394b861"
      }
     },
     "metadata": {},
     "output_type": "display_data"
    }
   ],
   "source": [
    "preds_decl = ['OneVsRestClassifier(RandomForestClassifier(n_estimators=5000, n_jobs=16))',\n",
    "              'OneVsRestClassifier(RandomForestClassifier(n_estimators=1000, n_jobs=16))',\n",
    "              'OneVsRestClassifier(RandomForestClassifier(n_estimators=1000, n_jobs=16))',\n",
    "              'OneVsRestClassifier(RandomForestClassifier(n_estimators=5000, n_jobs=16))']\n",
    "\n",
    "nn_predictors= []\n",
    "for scores, decl in log_progress(zip(nn_scores_train, preds_decl)):\n",
    "    tmp_X, tmp_y, _ = parse_X_y(scores)\n",
    "    nn_predictors.append(eval(decl).fit(tmp_X, tmp_y))"
   ]
  },
  {
   "cell_type": "code",
   "execution_count": 25,
   "metadata": {},
   "outputs": [
    {
     "data": {
      "application/vnd.jupyter.widget-view+json": {
       "model_id": "da184ff9a70c40869051d171ea2fc284"
      }
     },
     "metadata": {},
     "output_type": "display_data"
    },
    {
     "data": {
      "application/vnd.jupyter.widget-view+json": {
       "model_id": "5dfa7a21ebd3439382299336df6b41eb"
      }
     },
     "metadata": {},
     "output_type": "display_data"
    },
    {
     "name": "stdout",
     "output_type": "stream",
     "text": [
      "0.69603960396\n"
     ]
    },
    {
     "data": {
      "application/vnd.jupyter.widget-view+json": {
       "model_id": "9e5935a312f945c3aa4ac4e6d1e9e304"
      }
     },
     "metadata": {},
     "output_type": "display_data"
    },
    {
     "name": "stdout",
     "output_type": "stream",
     "text": [
      "0.683168316832\n"
     ]
    },
    {
     "data": {
      "application/vnd.jupyter.widget-view+json": {
       "model_id": "610009ec3e494247afbf0009a5c3ea14"
      }
     },
     "metadata": {},
     "output_type": "display_data"
    },
    {
     "name": "stdout",
     "output_type": "stream",
     "text": [
      "0.698514851485\n"
     ]
    },
    {
     "data": {
      "application/vnd.jupyter.widget-view+json": {
       "model_id": "f925d7b9e0704a5f92e1ebdc5ee0f281"
      }
     },
     "metadata": {},
     "output_type": "display_data"
    },
    {
     "name": "stdout",
     "output_type": "stream",
     "text": [
      "0.676732673267\n"
     ]
    }
   ],
   "source": [
    "nn_probs_pred = []\n",
    "\n",
    "for scores, predictor in log_progress(zip(nn_scores_val, nn_predictors)):\n",
    "    tmp_X, tmp_y, fnames = parse_X_y(scores)\n",
    "    tmp_probs = predictor.predict_proba(tmp_X)\n",
    "    nn_probs_pred.append(dict(zip(fnames, tmp_probs)))\n",
    "    print np.mean(tmp_y == np.argmax(tmp_probs, axis=1))\n",
    "#     break"
   ]
  },
  {
   "cell_type": "code",
   "execution_count": 27,
   "metadata": {
    "collapsed": true
   },
   "outputs": [],
   "source": [
    "np.save('data/probs_nn_val', nn_probs_pred)"
   ]
  },
  {
   "cell_type": "raw",
   "metadata": {},
   "source": [
    "for scores, predictor in log_progress(zip(nn_scores_train, nn_predictors)):\n",
    "    tmp_X, tmp_y, fnames = parse_X_y(scores)\n",
    "    tmp_probs = predictor.predict_proba(tmp_X)\n",
    "    for fname, prob in zip(fnames, tmp_probs):\n",
    "        scorings_all[fname] = np.append(scorings_all[fname], prob)\n",
    "#     break"
   ]
  },
  {
   "cell_type": "raw",
   "metadata": {},
   "source": [
    "X_tr, y_tr, _ = parse_X_y(scorings_all)\n",
    "\n",
    "print X_tr.shape, y_tr.shape"
   ]
  },
  {
   "cell_type": "raw",
   "metadata": {},
   "source": [
    "predictor_scores = OneVsRestClassifier(RandomForestClassifier(n_estimators=10, n_jobs=16)).fit(X_tr, y_tr)"
   ]
  },
  {
   "cell_type": "raw",
   "metadata": {},
   "source": [
    "tmp_dsts = np.load('data/probs_dsts_val.npy').item()\n",
    "tmp_nn = np.load('data/probs_nn_val.npy')\n",
    "\n",
    "scorings_all_val = {}\n",
    "for fname in tmp_dsts.keys():\n",
    "    scorings_all_val[fname] = tmp_dsts[fname]\n",
    "    for el in tmp_nn:\n",
    "        scorings_all_val[fname] = np.append(scorings_all_val[fname], el[fname])"
   ]
  },
  {
   "cell_type": "raw",
   "metadata": {},
   "source": [
    "X_v, y_v, _ = parse_X_y(scorings_all_val)\n",
    "\n",
    "print X_v.shape, y_v.shape"
   ]
  },
  {
   "cell_type": "raw",
   "metadata": {},
   "source": [
    "np.mean(y_v == predictor_scores.predict(X_v))"
   ]
  },
  {
   "cell_type": "markdown",
   "metadata": {},
   "source": [
    "### train + val / test"
   ]
  },
  {
   "cell_type": "markdown",
   "metadata": {},
   "source": [
    "**Лендмарки:**"
   ]
  },
  {
   "cell_type": "code",
   "execution_count": 11,
   "metadata": {},
   "outputs": [
    {
     "data": {
      "application/vnd.jupyter.widget-view+json": {
       "model_id": "76c9793a95bd425793c60da85f49726a"
      }
     },
     "metadata": {},
     "output_type": "display_data"
    },
    {
     "data": {
      "application/vnd.jupyter.widget-view+json": {
       "model_id": "35883cc86bdb4da8b73bccc7567f942b"
      }
     },
     "metadata": {},
     "output_type": "display_data"
    },
    {
     "name": "stdout",
     "output_type": "stream",
     "text": [
      "(20073, 2278) (20073,)\n",
      "(4317, 2278)\n"
     ]
    }
   ],
   "source": [
    "dsts_X_train, dsts_y_train = parse_X_y_flat( dict( np.load('data/dsts_train.npy').item(), \n",
    "                                                   **np.load('data/dsts_val.npy').item() \n",
    "                                                 )\n",
    "                                           )\n",
    "dsts_test = np.load('data/dsts_test.npy').item()\n",
    "dsts_X_test = parse_X_flat(dsts_test)\n",
    "\n",
    "print dsts_X_train.shape, dsts_y_train.shape\n",
    "print dsts_X_test.shape"
   ]
  },
  {
   "cell_type": "code",
   "execution_count": 12,
   "metadata": {
    "collapsed": true
   },
   "outputs": [],
   "source": [
    "predictor_dsts = OneVsRestClassifier(RandomForestClassifier(n_estimators=5000, n_jobs=16)).fit(dsts_X_train, dsts_y_train)"
   ]
  },
  {
   "cell_type": "code",
   "execution_count": 13,
   "metadata": {},
   "outputs": [
    {
     "name": "stdout",
     "output_type": "stream",
     "text": [
      "(4317, 3)\n"
     ]
    }
   ],
   "source": [
    "tmp_probs = predictor_dsts.predict_proba(dsts_X_test)\n",
    "print tmp_probs.shape"
   ]
  },
  {
   "cell_type": "code",
   "execution_count": 14,
   "metadata": {},
   "outputs": [
    {
     "data": {
      "application/vnd.jupyter.widget-view+json": {
       "model_id": "61e02baa7af14552a7f8c1130d49a090"
      }
     },
     "metadata": {},
     "output_type": "display_data"
    },
    {
     "name": "stdout",
     "output_type": "stream",
     "text": [
      "715\n"
     ]
    }
   ],
   "source": [
    "dsts_probs_pred = probs_deflate(tmp_probs, dsts_test)\n",
    "print len(dsts_probs_pred)"
   ]
  },
  {
   "cell_type": "code",
   "execution_count": 15,
   "metadata": {
    "collapsed": true
   },
   "outputs": [],
   "source": [
    "np.save('data/probs_dsts_test', dsts_probs_pred)"
   ]
  },
  {
   "cell_type": "markdown",
   "metadata": {},
   "source": [
    "**Нейронки:**"
   ]
  },
  {
   "cell_type": "code",
   "execution_count": 16,
   "metadata": {
    "collapsed": true
   },
   "outputs": [],
   "source": [
    "nn_scores_train_fnames = [\n",
    "    ('data/scores_train.npy_norm=4_model=vgg-face-avgpool.npy', 'data/scores_val.npy_norm=4_model=vgg-face-avgpool.npy'),\n",
    "    ('data/scores_train.npy_norm=4_model=vgg-face-fc7.npy', 'data/scores_val.npy_norm=4_model=vgg-face-fc7.npy'),\n",
    "    ('data/scores_train.npy_norm=3_model=vgg-face-avgpool.npy', 'data/scores_val.npy_norm=3_model=vgg-face-avgpool.npy'),\n",
    "    ('data/scores_train.npy_norm=3_model=vgg-face-fc7.npy', 'data/scores_val.npy_norm=3_model=vgg-face-fc7.npy')\n",
    "]\n",
    "nn_scores_test_fnames = ['data/scores_test.npy_norm=4_model=vgg-face-avgpool.npy',\n",
    "                         'data/scores_test.npy_norm=4_model=vgg-face-fc7.npy',\n",
    "                         'data/scores_test.npy_norm=3_model=vgg-face-avgpool.npy',\n",
    "                         'data/scores_test.npy_norm=3_model=vgg-face-fc7.npy']"
   ]
  },
  {
   "cell_type": "code",
   "execution_count": 17,
   "metadata": {},
   "outputs": [
    {
     "name": "stdout",
     "output_type": "stream",
     "text": [
      "4 4\n"
     ]
    }
   ],
   "source": [
    "nn_scores_train = [dict(np.load(x1).item(), **np.load(x2).item()) for x1, x2 in nn_scores_train_fnames]\n",
    "nn_scores_test = [np.load(x).item() for x in nn_scores_test_fnames]\n",
    "\n",
    "print len(nn_scores_train), len(nn_scores_test)"
   ]
  },
  {
   "cell_type": "code",
   "execution_count": 18,
   "metadata": {},
   "outputs": [
    {
     "data": {
      "application/vnd.jupyter.widget-view+json": {
       "model_id": "ab367f1e23ee4020a197d38e3baaf5b4"
      }
     },
     "metadata": {},
     "output_type": "display_data"
    },
    {
     "data": {
      "application/vnd.jupyter.widget-view+json": {
       "model_id": "f65f4b6fd4664931b458ac28c4d9dc1f"
      }
     },
     "metadata": {},
     "output_type": "display_data"
    },
    {
     "data": {
      "application/vnd.jupyter.widget-view+json": {
       "model_id": "ecc3eef329e8476b9edd993f9394dbd7"
      }
     },
     "metadata": {},
     "output_type": "display_data"
    },
    {
     "data": {
      "application/vnd.jupyter.widget-view+json": {
       "model_id": "0fd9263475bd430ca3bd6359bcdf64d9"
      }
     },
     "metadata": {},
     "output_type": "display_data"
    },
    {
     "data": {
      "application/vnd.jupyter.widget-view+json": {
       "model_id": "d18a43a16f2443368f80b9e61f614be2"
      }
     },
     "metadata": {},
     "output_type": "display_data"
    }
   ],
   "source": [
    "preds_decl = ['OneVsRestClassifier(RandomForestClassifier(n_estimators=5000, n_jobs=16))',\n",
    "              'OneVsRestClassifier(RandomForestClassifier(n_estimators=1000, n_jobs=16))',\n",
    "              'OneVsRestClassifier(RandomForestClassifier(n_estimators=1000, n_jobs=16))',\n",
    "              'OneVsRestClassifier(RandomForestClassifier(n_estimators=5000, n_jobs=16))']\n",
    "\n",
    "nn_predictors= []\n",
    "for scores, decl in log_progress(zip(nn_scores_train, preds_decl)):\n",
    "    tmp_X, tmp_y, _ = parse_X_y(scores)\n",
    "    nn_predictors.append(eval(decl).fit(tmp_X, tmp_y))"
   ]
  },
  {
   "cell_type": "code",
   "execution_count": 19,
   "metadata": {},
   "outputs": [
    {
     "data": {
      "application/vnd.jupyter.widget-view+json": {
       "model_id": "5a1c8f16dc3e401fb82e4c6cd3915d5d"
      }
     },
     "metadata": {},
     "output_type": "display_data"
    },
    {
     "data": {
      "application/vnd.jupyter.widget-view+json": {
       "model_id": "dfececafa3bb47fcbfad7def395e3e1b"
      }
     },
     "metadata": {},
     "output_type": "display_data"
    },
    {
     "data": {
      "application/vnd.jupyter.widget-view+json": {
       "model_id": "5e019e8485cf4e73b4a84242f66179cd"
      }
     },
     "metadata": {},
     "output_type": "display_data"
    },
    {
     "data": {
      "application/vnd.jupyter.widget-view+json": {
       "model_id": "7d7f822d172c428aaf0007c26511baf0"
      }
     },
     "metadata": {},
     "output_type": "display_data"
    },
    {
     "data": {
      "application/vnd.jupyter.widget-view+json": {
       "model_id": "9152b1cd16274474bb7d87fe9dbcf25d"
      }
     },
     "metadata": {},
     "output_type": "display_data"
    }
   ],
   "source": [
    "nn_probs_pred = []\n",
    "\n",
    "for scores, predictor in log_progress(zip(nn_scores_test, nn_predictors)):\n",
    "    tmp_X, fnames = parse_X(scores)\n",
    "    tmp_probs = predictor.predict_proba(tmp_X)\n",
    "    nn_probs_pred.append(dict(zip(fnames, tmp_probs)))\n",
    "#     break"
   ]
  },
  {
   "cell_type": "code",
   "execution_count": 20,
   "metadata": {
    "collapsed": true
   },
   "outputs": [],
   "source": [
    "np.save('data/probs_nn_test', nn_probs_pred)"
   ]
  },
  {
   "cell_type": "markdown",
   "metadata": {},
   "source": [
    "## 4. Тест ансамбля"
   ]
  },
  {
   "cell_type": "code",
   "execution_count": 17,
   "metadata": {
    "collapsed": true
   },
   "outputs": [],
   "source": [
    "probs_dsts_fname = 'data/probs_dsts_val.npy'\n",
    "weight_dsts = 0.66\n",
    "\n",
    "probs_nn_fname = 'data/probs_nn_val.npy'\n",
    "weights_nn = [0.7, 0.7, 0.7, 0.7]"
   ]
  },
  {
   "cell_type": "code",
   "execution_count": 18,
   "metadata": {
    "collapsed": true
   },
   "outputs": [],
   "source": [
    "probs_dsts = np.load(probs_dsts_fname).item()\n",
    "probs_nn = np.load(probs_nn_fname)"
   ]
  },
  {
   "cell_type": "code",
   "execution_count": 19,
   "metadata": {},
   "outputs": [
    {
     "name": "stdout",
     "output_type": "stream",
     "text": [
      "2065\n"
     ]
    }
   ],
   "source": [
    "ys_true = np.load('data/y_val.npy').item()\n",
    "print len(ys_true)"
   ]
  },
  {
   "cell_type": "code",
   "execution_count": 20,
   "metadata": {},
   "outputs": [
    {
     "data": {
      "application/vnd.jupyter.widget-view+json": {
       "model_id": "7bbcf12a26d146648e70ab782cb249d4"
      }
     },
     "metadata": {},
     "output_type": "display_data"
    }
   ],
   "source": [
    "y_true = []\n",
    "y_pred = []\n",
    "\n",
    "for fname in log_progress(probs_dsts.keys()):\n",
    "    preds = np.zeros((3,))\n",
    "    preds += probs_dsts[fname] * weight_dsts\n",
    "    for tmp_probs, w in zip(probs_nn, weights_nn):\n",
    "        preds += tmp_probs[fname] * w\n",
    "    y_pred.append(np.argmax(preds))\n",
    "    y_true.append(ys_true[fname])\n",
    "#     break\n",
    "    \n",
    "y_true = np.asarray(y_true)\n",
    "y_pred = np.asarray(y_pred)"
   ]
  },
  {
   "cell_type": "code",
   "execution_count": 21,
   "metadata": {},
   "outputs": [
    {
     "name": "stdout",
     "output_type": "stream",
     "text": [
      "0.727227722772\n"
     ]
    }
   ],
   "source": [
    "print np.mean(y_true == y_pred)"
   ]
  },
  {
   "cell_type": "code",
   "execution_count": 22,
   "metadata": {},
   "outputs": [
    {
     "name": "stdout",
     "output_type": "stream",
     "text": [
      "[[ 0.74  0.18  0.08]\n",
      " [ 0.3   0.64  0.06]\n",
      " [ 0.07  0.13  0.8 ]]\n"
     ]
    },
    {
     "data": {
      "image/png": "[encoded data removed]",
      "text/plain": [
       "<matplotlib.figure.Figure at 0x7f8044c7b9d0>"
      ]
     },
     "metadata": {},
     "output_type": "display_data"
    }
   ],
   "source": [
    "cmtx = confusion_matrix(y_true, y_pred)\n",
    "plot_confusion_matrix(cmtx, ['Negative', 'Neutral', 'Positive'], normalize=True)"
   ]
  },
  {
   "cell_type": "markdown",
   "metadata": {
    "collapsed": true
   },
   "source": [
    "## 5. Сабмишн"
   ]
  },
  {
   "cell_type": "code",
   "execution_count": 5,
   "metadata": {
    "collapsed": true
   },
   "outputs": [],
   "source": [
    "probs_dsts_fname = 'data/probs_dsts_test.npy'\n",
    "weight_dsts = 0.66\n",
    "\n",
    "probs_nn_fname = 'data/probs_nn_test.npy'\n",
    "weights_nn = [0.7, 0.7, 0.7, 0.7]"
   ]
  },
  {
   "cell_type": "code",
   "execution_count": 6,
   "metadata": {},
   "outputs": [
    {
     "name": "stdout",
     "output_type": "stream",
     "text": [
      "715 (4,)\n"
     ]
    }
   ],
   "source": [
    "probs_dsts = np.load(probs_dsts_fname).item()\n",
    "probs_nn = np.load(probs_nn_fname)\n",
    "\n",
    "print len(probs_dsts), probs_nn.shape"
   ]
  },
  {
   "cell_type": "code",
   "execution_count": 7,
   "metadata": {},
   "outputs": [
    {
     "data": {
      "application/vnd.jupyter.widget-view+json": {
       "model_id": "0492ae8c26e74ca0835a83bb5e555496"
      }
     },
     "metadata": {},
     "output_type": "display_data"
    }
   ],
   "source": [
    "predictions = {}\n",
    "\n",
    "for fname in log_progress(probs_dsts.keys()):\n",
    "    preds = np.zeros((3,))\n",
    "    preds += probs_dsts[fname] * weight_dsts\n",
    "    for tmp_probs, w in zip(probs_nn, weights_nn):\n",
    "        preds += tmp_probs[fname] * w\n",
    "    predictions[fname] = np.argmax(preds)\n",
    "#     break"
   ]
  },
  {
   "cell_type": "code",
   "execution_count": 8,
   "metadata": {
    "collapsed": true
   },
   "outputs": [],
   "source": [
    "SUBMISSION_OUT_DIR = 'submission1'"
   ]
  },
  {
   "cell_type": "code",
   "execution_count": 12,
   "metadata": {},
   "outputs": [
    {
     "data": {
      "application/vnd.jupyter.widget-view+json": {
       "model_id": "f791d32e35074afbb3ca6ae0f90d6231"
      }
     },
     "metadata": {},
     "output_type": "display_data"
    }
   ],
   "source": [
    "if not os.path.exists(SUBMISSION_OUT_DIR):\n",
    "    os.makedirs(SUBMISSION_OUT_DIR)\n",
    "    \n",
    "for fname in log_progress(predictions.keys()):\n",
    "    predicted = predictions[fname]\n",
    "    fname = os.path.basename(fname)\n",
    "    if fname == 'family-get-together-002.png':\n",
    "        fname = 'family-get-together-002_1.png'\n",
    "    fname = '.'.join(fname.split('.')[:-1])\n",
    "    f = open(os.path.join(SUBMISSION_OUT_DIR, fname + '.txt'), 'w')\n",
    "    f.write('{}'.format(LBL2CLASS[predicted]))\n",
    "    f.flush()\n",
    "    f.close()"
   ]
  },
  {
   "cell_type": "markdown",
   "metadata": {},
   "source": [
    "---"
   ]
  },
  {
   "cell_type": "code",
   "execution_count": 14,
   "metadata": {},
   "outputs": [
    {
     "data": {
      "application/vnd.jupyter.widget-view+json": {
       "model_id": "8423c7bdf3ae46088d6138e48f7fc184"
      }
     },
     "metadata": {},
     "output_type": "display_data"
    }
   ],
   "source": [
    "f = open('data/subm.list', 'w')\n",
    "for fname in log_progress(predictions.keys()):\n",
    "    f.write('{}\\n'.format(os.path.basename(fname)))\n",
    "f.flush()\n",
    "f.close()"
   ]
  }
 ],
 "metadata": {
  "kernelspec": {
   "display_name": "Python 2",
   "language": "python",
   "name": "python2"
  },
  "language_info": {
   "codemirror_mode": {
    "name": "ipython",
    "version": 2
   },
   "file_extension": ".py",
   "mimetype": "text/x-python",
   "name": "python",
   "nbconvert_exporter": "python",
   "pygments_lexer": "ipython2",
   "version": "2.7.12"
  }
 },
 "nbformat": 4,
 "nbformat_minor": 2
}
