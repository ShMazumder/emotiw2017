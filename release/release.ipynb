{
 "cells": [
  {
   "cell_type": "code",
   "execution_count": 112,
   "metadata": {},
   "outputs": [],
   "source": [
    "import os\n",
    "import numpy as np\n",
    "import dlib\n",
    "import cv2\n",
    "from scipy.misc import *\n",
    "import matplotlib.pyplot as plt\n",
    "from glob import glob\n",
    "from keras.engine import  Model\n",
    "from keras.layers import Input\n",
    "from keras_vggface.vggface import VGGFace\n",
    "from sklearn.ensemble import RandomForestClassifier\n",
    "from sklearn.multiclass import OneVsRestClassifier\n",
    "from sklearn.metrics import confusion_matrix\n",
    "import itertools\n",
    "%matplotlib inline"
   ]
  },
  {
   "cell_type": "code",
   "execution_count": 2,
   "metadata": {
    "collapsed": true
   },
   "outputs": [],
   "source": [
    "def log_progress(sequence, every=None, size=None, name='Items'):\n",
    "    from ipywidgets import IntProgress, HTML, VBox\n",
    "    from IPython.display import display\n",
    "\n",
    "    is_iterator = False\n",
    "    if size is None:\n",
    "        try:\n",
    "            size = len(sequence)\n",
    "        except TypeError:\n",
    "            is_iterator = True\n",
    "    if size is not None:\n",
    "        if every is None:\n",
    "            if size <= 200:\n",
    "                every = 1\n",
    "            else:\n",
    "                every = int(size / 200)     # every 0.5%\n",
    "    else:\n",
    "        assert every is not None, 'sequence is iterator, set every'\n",
    "\n",
    "    if is_iterator:\n",
    "        progress = IntProgress(min=0, max=1, value=1)\n",
    "        progress.bar_style = 'info'\n",
    "    else:\n",
    "        progress = IntProgress(min=0, max=size, value=0)\n",
    "    label = HTML()\n",
    "    box = VBox(children=[label, progress])\n",
    "    display(box)\n",
    "\n",
    "    index = 0\n",
    "    try:\n",
    "        for index, record in enumerate(sequence, 1):\n",
    "            if index == 1 or index % every == 0:\n",
    "                if is_iterator:\n",
    "                    label.value = '{name}: {index} / ?'.format(\n",
    "                        name=name,\n",
    "                        index=index\n",
    "                    )\n",
    "                else:\n",
    "                    progress.value = index\n",
    "                    label.value = u'{name}: {index} / {size}'.format(\n",
    "                        name=name,\n",
    "                        index=index,\n",
    "                        size=size\n",
    "                    )\n",
    "            yield record\n",
    "    except:\n",
    "        progress.bar_style = 'danger'\n",
    "        raise\n",
    "    else:\n",
    "        progress.bar_style = 'success'\n",
    "        progress.value = index\n",
    "        label.value = \"{name}: {index}\".format(\n",
    "            name=name,\n",
    "            index=str(index or '?')\n",
    "        )"
   ]
  },
  {
   "cell_type": "code",
   "execution_count": 3,
   "metadata": {
    "collapsed": true
   },
   "outputs": [],
   "source": [
    "CLASS2LBL = {'Negative': 0, 'Neutral': 1, 'Positive': 2}\n",
    "\n",
    "def parse_lbl(fname):\n",
    "    _class = fname.split('/')[-2]\n",
    "    return CLASS2LBL[_class]"
   ]
  },
  {
   "cell_type": "code",
   "execution_count": 109,
   "metadata": {
    "collapsed": true
   },
   "outputs": [],
   "source": [
    "def plot_confusion_matrix(cm, classes,\n",
    "                          normalize=False,\n",
    "                          cmap=plt.cm.Blues):\n",
    "    plt.figure(figsize=(15, 10))\n",
    "\n",
    "    if normalize:\n",
    "        cm = cm.astype('float') / cm.sum(axis=1)[:, np.newaxis]\n",
    "        cm = np.round(cm, 2)\n",
    "        print(cm)\n",
    "    \n",
    "    plt.imshow(cm, interpolation='nearest', cmap=cmap)\n",
    "    plt.title('Confusion matrix')\n",
    "    plt.colorbar()\n",
    "    tick_marks = np.arange(len(classes))\n",
    "    plt.xticks(tick_marks, classes, rotation=45)\n",
    "    plt.yticks(tick_marks, classes)\n",
    "\n",
    "    thresh = cm.max() / 2.\n",
    "    for i, j in itertools.product(range(cm.shape[0]), range(cm.shape[1])):\n",
    "        plt.text(j, i, cm[i, j],\n",
    "                 horizontalalignment=\"center\",\n",
    "                 color=\"white\" if cm[i, j] > thresh else \"black\")\n",
    "\n",
    "    plt.tight_layout()\n",
    "    plt.ylabel('True labels')\n",
    "    plt.xlabel('Predicted labels')\n",
    "    plt.savefig('confusion_release.png')"
   ]
  },
  {
   "cell_type": "markdown",
   "metadata": {},
   "source": [
    "## 1. Подготовим данные"
   ]
  },
  {
   "cell_type": "code",
   "execution_count": 48,
   "metadata": {
    "collapsed": true
   },
   "outputs": [],
   "source": [
    "DATA_PATH = '/home/_datasets_/emotiw2017/'\n",
    "TRAIN_DIR = 'train'\n",
    "VAL_DIR = 'val'\n",
    "TEST_DIR = 'test'\n",
    "IMG_TMPL = '*.jpg'\n",
    "PREDICTOR_PATH = '/home/arassadin/distr/shape_predictor_68_face_landmarks.dat'\n",
    "OUT_SIZE = (224, 224)"
   ]
  },
  {
   "cell_type": "code",
   "execution_count": 6,
   "metadata": {
    "collapsed": true
   },
   "outputs": [],
   "source": [
    "detector = dlib.get_frontal_face_detector()\n",
    "predictor = dlib.shape_predictor(PREDICTOR_PATH)"
   ]
  },
  {
   "cell_type": "code",
   "execution_count": 49,
   "metadata": {},
   "outputs": [
    {
     "name": "stdout",
     "output_type": "stream",
     "text": [
      "3630 2065 772\n"
     ]
    }
   ],
   "source": [
    "files_train = glob(os.path.join(DATA_PATH, TRAIN_DIR, '*', '*'))\n",
    "files_val = glob(os.path.join(DATA_PATH, VAL_DIR, '*', '*'))\n",
    "files_test = glob(os.path.join(DATA_PATH, TEST_DIR, '*'))\n",
    "\n",
    "print len(files_train), len(files_val), len(files_test)"
   ]
  },
  {
   "cell_type": "code",
   "execution_count": 23,
   "metadata": {},
   "outputs": [
    {
     "data": {
      "text/plain": [
       "'/home/_datasets_/emotiw2017/test/1997_Convocation.jpg'"
      ]
     },
     "execution_count": 23,
     "metadata": {},
     "output_type": "execute_result"
    }
   ],
   "source": [
    "files_test[14]"
   ]
  },
  {
   "cell_type": "code",
   "execution_count": 28,
   "metadata": {
    "collapsed": true
   },
   "outputs": [],
   "source": [
    "def find_faces(img):\n",
    "    try:\n",
    "        rects = detector(img, 1)\n",
    "    except:\n",
    "        return None\n",
    "    faces = []\n",
    "\n",
    "    for rect in rects:\n",
    "        y1 = rect.top()\n",
    "        if y1 < 0:\n",
    "            y1 = 0\n",
    "        y2 = rect.bottom()\n",
    "        if y2 > img.shape[0]:\n",
    "            y2 = img.shape[0]\n",
    "        x1 = rect.left()\n",
    "        if x1 < 0:\n",
    "            x1 = 0\n",
    "        x2 = rect.right()\n",
    "        if x2 > img.shape[1]:\n",
    "            x2 = img.shape[1]\n",
    "        faces.append(img[y1:y2, x1:x2])\n",
    "    \n",
    "    return faces"
   ]
  },
  {
   "cell_type": "code",
   "execution_count": 9,
   "metadata": {
    "collapsed": true
   },
   "outputs": [],
   "source": [
    "def get_dst(p1, p2):\n",
    "    x1, y1 = p1\n",
    "    x2, y2 = p2\n",
    "    return np.sqrt(np.square(y2 - y1) + np.square(x2 - x1))"
   ]
  },
  {
   "cell_type": "code",
   "execution_count": 10,
   "metadata": {
    "collapsed": true
   },
   "outputs": [],
   "source": [
    "def find_landmarks(face):\n",
    "    bbox = dlib.rectangle(0, 0, face.shape[1] - 1, face.shape[0] - 1)\n",
    "    shape = predictor(face, bbox)\n",
    "    landmarks = [(shape.part(i).x, shape.part(i).y) for i in range(68)]\n",
    "    leftmost = min([l[0] for l in landmarks])\n",
    "    topmost = min([l[1] for l in landmarks])\n",
    "    landmarks = [(l[0] - leftmost, l[1] - topmost) for l in landmarks]\n",
    "    dsts = []\n",
    "    for i in range(68):\n",
    "        for j in range(i + 1, 68):\n",
    "            dsts.append(get_dst(landmarks[i], landmarks[j]))\n",
    "    dsts = np.asarray(dsts)\n",
    "    dsts /= dsts.max()\n",
    "    return dsts"
   ]
  },
  {
   "cell_type": "code",
   "execution_count": null,
   "metadata": {},
   "outputs": [
    {
     "data": {
      "application/vnd.jupyter.widget-view+json": {
       "model_id": "4fe9b4868430492681aec9fe51275e92"
      }
     },
     "metadata": {},
     "output_type": "display_data"
    },
    {
     "name": "stdout",
     "output_type": "stream",
     "text": [
      "Something wrong with image /home/_datasets_/emotiw2017/test/1997_Convocation.jpg!\n"
     ]
    }
   ],
   "source": [
    "if not os.path.exists('./data'):\n",
    "    os.makedirs('./data')\n",
    "\n",
    "fault_counter = 0\n",
    "def routine(files):\n",
    "    global fault_counter\n",
    "    data_faces, data_dsts = {}, {}\n",
    "    for fname in log_progress(files):\n",
    "        img = imread(fname, mode='RGB')\n",
    "        faces = find_faces(img)\n",
    "        if faces is None:\n",
    "            print 'Something wrong with image {}!'.format(fname)\n",
    "            continue\n",
    "        if len(faces) == 0:\n",
    "            fault_counter += 1\n",
    "            continue\n",
    "\n",
    "        dsts = [find_landmarks(f) for f in faces]\n",
    "        faces = [imresize(f, OUT_SIZE) for f in faces]\n",
    "        \n",
    "        data_faces[fname] = faces\n",
    "        data_dsts[fname] = dsts\n",
    "    return data_faces, data_dsts\n",
    "\n",
    "faces_train, dsts_train = routine(files_train)\n",
    "np.save('data/faces_train', faces_train); np.save('data/dsts_train', dsts_train)\n",
    "print len(files_train), len(faces_train), len(dsts_train)\n",
    "\n",
    "faces_val, dsts_val = routine(files_val)\n",
    "np.save('data/faces_val', faces_val); np.save('data/dsts_val', dsts_val)\n",
    "print len(files_val), len(faces_val), len(dsts_val)\n",
    "\n",
    "faces_test, dsts_test = routine(files_test[14:])\n",
    "np.save('data/faces_test', faces_test); np.save('data/dsts_test', dsts_test)\n",
    "print len(files_test), len(faces_test), len(dsts_test)\n",
    "\n",
    "print 'No faces found on {} photos'.format(fault_counter)"
   ]
  },
  {
   "cell_type": "code",
   "execution_count": 56,
   "metadata": {},
   "outputs": [
    {
     "name": "stdout",
     "output_type": "stream",
     "text": [
      "[0 1 2]\n",
      "[0 1 2]\n"
     ]
    }
   ],
   "source": [
    "y_train = {}\n",
    "for fname in files_train:\n",
    "    y_train[fname] = parse_lbl(fname)\n",
    "    \n",
    "y_val = {}\n",
    "for fname in files_val:\n",
    "    y_val[fname] = parse_lbl(fname)\n",
    "    \n",
    "print np.unique(y_train.values())\n",
    "print np.unique(y_val.values())\n",
    "\n",
    "np.save('data/y_train', y_train)\n",
    "np.save('data/y_val', y_val)"
   ]
  },
  {
   "cell_type": "markdown",
   "metadata": {},
   "source": [
    "## 2. Сбор нейросетевых скорингов"
   ]
  },
  {
   "cell_type": "code",
   "execution_count": 5,
   "metadata": {
    "collapsed": true
   },
   "outputs": [],
   "source": [
    "def normalize_vggface_1(arr):\n",
    "    arr = arr[::-1, :, :].astype(np.float32)\n",
    "\n",
    "    arr[0, :, :] -= 93.5940\n",
    "    arr[1, :, :] -= 104.7624\n",
    "    arr[2, :, :] -= 129.1863\n",
    "\n",
    "    return arr"
   ]
  },
  {
   "cell_type": "code",
   "execution_count": 6,
   "metadata": {
    "collapsed": true
   },
   "outputs": [],
   "source": [
    "def normalize_vggface_2(arr):\n",
    "    arr = arr[:, :, :].astype(np.float32)\n",
    "\n",
    "    arr[0, :, :] -= 93.5940\n",
    "    arr[1, :, :] -= 104.7624\n",
    "    arr[2, :, :] -= 129.1863\n",
    "\n",
    "    return arr"
   ]
  },
  {
   "cell_type": "code",
   "execution_count": 10,
   "metadata": {},
   "outputs": [
    {
     "data": {
      "application/vnd.jupyter.widget-view+json": {
       "model_id": "87457ab9c63a48de93a691be45f318ae"
      }
     },
     "metadata": {},
     "output_type": "display_data"
    },
    {
     "data": {
      "application/vnd.jupyter.widget-view+json": {
       "model_id": "c09d62ef2bdb4e16a3bdc98a67b018da"
      }
     },
     "metadata": {},
     "output_type": "display_data"
    },
    {
     "data": {
      "application/vnd.jupyter.widget-view+json": {
       "model_id": "26f8fabb11314eaaa82c99dad2bb8772"
      }
     },
     "metadata": {},
     "output_type": "display_data"
    },
    {
     "data": {
      "application/vnd.jupyter.widget-view+json": {
       "model_id": "7499b3fc8b3b451a872bff128f9aa478"
      }
     },
     "metadata": {},
     "output_type": "display_data"
    },
    {
     "data": {
      "application/vnd.jupyter.widget-view+json": {
       "model_id": "8a4d494eeeed4bfbb400af589ce4ddc3"
      }
     },
     "metadata": {},
     "output_type": "display_data"
    },
    {
     "data": {
      "application/vnd.jupyter.widget-view+json": {
       "model_id": "3b034f08ac4e461e97055f80dffcf5ef"
      }
     },
     "metadata": {},
     "output_type": "display_data"
    },
    {
     "data": {
      "application/vnd.jupyter.widget-view+json": {
       "model_id": "b1da97339ed844dc85a1ca4709c98e20"
      }
     },
     "metadata": {},
     "output_type": "display_data"
    },
    {
     "data": {
      "application/vnd.jupyter.widget-view+json": {
       "model_id": "1257d67b3f85486287a6af0adcd9b482"
      }
     },
     "metadata": {},
     "output_type": "display_data"
    },
    {
     "data": {
      "application/vnd.jupyter.widget-view+json": {
       "model_id": "6b31c82f1db946ec9b62dceb9b864ee3"
      }
     },
     "metadata": {},
     "output_type": "display_data"
    },
    {
     "data": {
      "application/vnd.jupyter.widget-view+json": {
       "model_id": "84e879b4d24f46f59faaa6e87d5e7b37"
      }
     },
     "metadata": {},
     "output_type": "display_data"
    },
    {
     "data": {
      "application/vnd.jupyter.widget-view+json": {
       "model_id": "0808247e701642c0a402608b44073e53"
      }
     },
     "metadata": {},
     "output_type": "display_data"
    },
    {
     "data": {
      "application/vnd.jupyter.widget-view+json": {
       "model_id": "8dde7b475ee6427693f00db38c640848"
      }
     },
     "metadata": {},
     "output_type": "display_data"
    }
   ],
   "source": [
    "def routine1(data, model, norm_f):\n",
    "    scores = {}\n",
    "    for fname in log_progress(data.keys()):\n",
    "#         _class = fname.split('/')[-2]\n",
    "#         lbl = CLASS2LBL[_class]\n",
    "#         scores_y.append(lbl)\n",
    "        \n",
    "        if len(data[fname]) < 1:\n",
    "            continue\n",
    "        faces = np.asarray([norm_f(np.moveaxis(face, 2, 0)) for face in data[fname]])\n",
    "        preds = model.predict(faces)\n",
    "        scores[fname] = np.median(preds, axis=0)\n",
    "        # break\n",
    "    return scores\n",
    "\n",
    "def routine2(fname, model, m='default'):\n",
    "    data = np.load(fname).item()\n",
    "    for i, norm_f in enumerate([normalize_vggface_1, normalize_vggface_2], start=1):\n",
    "        scores = routine1(data, model, norm_f)\n",
    "        postfix = os.path.basename(fname).split('_')[-1]\n",
    "        np.save('data/scores_{}_norm={}_model={}'.format(postfix, i, m), scores)\n",
    "\n",
    "model = VGGFace(include_top=False, input_shape=(3, 224, 224), pooling='avg')\n",
    "routine2('data/faces_train.npy', model, m='vgg-face-avgpool')\n",
    "routine2('data/faces_val.npy', model, m='vgg-face-avgpool')\n",
    "routine2('data/faces_test.npy', model, m='vgg-face-avgpool')\n",
    "\n",
    "vgg_faces = VGGFace()\n",
    "out = vgg_faces.get_layer('fc7').output\n",
    "model = Model(vgg_faces.input, out)\n",
    "routine2('data/faces_train.npy', model, m='vgg-face-fc7')\n",
    "routine2('data/faces_val.npy', model, m='vgg-face-fc7')\n",
    "routine2('data/faces_test.npy', model, m='vgg-face-fc7')"
   ]
  },
  {
   "cell_type": "markdown",
   "metadata": {},
   "source": [
    "## 3. Обучение слабых классификаторов и сбор их скорингов"
   ]
  },
  {
   "cell_type": "code",
   "execution_count": 75,
   "metadata": {
    "collapsed": true
   },
   "outputs": [],
   "source": [
    "def parse_X_y_flat(d):\n",
    "    X, y = [], []\n",
    "    for fname in log_progress(d.keys()):\n",
    "        print d[fname].shape\n",
    "        return None\n",
    "        for el in d[fname]:\n",
    "            y.append(parse_lbl(fname))\n",
    "            X.append(el)\n",
    "    X = np.asarray(X)\n",
    "    y = np.asarray(y, np.uint8)\n",
    "    return X, y"
   ]
  },
  {
   "cell_type": "code",
   "execution_count": 90,
   "metadata": {
    "collapsed": true
   },
   "outputs": [],
   "source": [
    "def parse_X_y(d):\n",
    "    X, y = [], []\n",
    "    for fname in log_progress(d.keys()):\n",
    "        X.append(d[fname])\n",
    "        y.append(parse_lbl(fname))\n",
    "    X = np.asarray(X)\n",
    "    y = np.asarray(y, np.uint8)\n",
    "    return X, y, d.keys()"
   ]
  },
  {
   "cell_type": "code",
   "execution_count": 46,
   "metadata": {
    "collapsed": true
   },
   "outputs": [],
   "source": [
    "def probs_deflate(probs_pred, d):\n",
    "    probs_deflated = {}\n",
    "\n",
    "    cur_position = 0\n",
    "    for fname in log_progress(d.keys()):\n",
    "        q = len(dsts_val[fname])\n",
    "        score = np.sum(probs_pred[cur_position : cur_position + q], axis=0)\n",
    "        probs_deflated[fname] = score\n",
    "        cur_position += q\n",
    "    #     break\n",
    "\n",
    "    return probs_deflated"
   ]
  },
  {
   "cell_type": "code",
   "execution_count": 63,
   "metadata": {
    "collapsed": true
   },
   "outputs": [],
   "source": [
    "def get_scores(y_true, probs_pred):\n",
    "    accuracy = 0.0\n",
    "    for f in log_progress(probs_pred.keys()):\n",
    "        if y_true[f] == np.argmax(probs_pred[f]):\n",
    "            accuracy += 1\n",
    "    return accuracy / len(probs_pred)"
   ]
  },
  {
   "cell_type": "markdown",
   "metadata": {},
   "source": [
    "### train / val"
   ]
  },
  {
   "cell_type": "markdown",
   "metadata": {},
   "source": [
    "Лендмарки:"
   ]
  },
  {
   "cell_type": "code",
   "execution_count": 22,
   "metadata": {},
   "outputs": [
    {
     "data": {
      "application/vnd.jupyter.widget-view+json": {
       "model_id": "bb087af7ed3f4d279ae6cd06288ccb1a"
      }
     },
     "metadata": {},
     "output_type": "display_data"
    },
    {
     "data": {
      "application/vnd.jupyter.widget-view+json": {
       "model_id": "24041b1e58a64923b9edf070dd747b1b"
      }
     },
     "metadata": {},
     "output_type": "display_data"
    },
    {
     "name": "stdout",
     "output_type": "stream",
     "text": [
      "(12768, 2278) (12768,)\n",
      "(7202, 2278) (7202,)\n"
     ]
    }
   ],
   "source": [
    "dsts_X_train, dsts_y_train = parse_X_y_flat(np.load('data/dsts_train.npy').item())\n",
    "dsts_val = np.load('data/dsts_val.npy').item()\n",
    "dsts_X_val, dsts_y_val = parse_X_y_flat(dsts_val)\n",
    "\n",
    "print dsts_X_train.shape, dsts_y_train.shape\n",
    "print dsts_X_val.shape, dsts_y_val.shape"
   ]
  },
  {
   "cell_type": "code",
   "execution_count": 27,
   "metadata": {},
   "outputs": [],
   "source": [
    "predictor_dsts = OneVsRestClassifier(RandomForestClassifier(n_estimators=5000, n_jobs=16)).fit(dsts_X_train, dsts_y_train)"
   ]
  },
  {
   "cell_type": "code",
   "execution_count": 30,
   "metadata": {},
   "outputs": [
    {
     "name": "stdout",
     "output_type": "stream",
     "text": [
      "(7202, 3)\n"
     ]
    }
   ],
   "source": [
    "tmp_probs = predictor_dsts.predict_proba(dsts_X_val)\n",
    "print tmp_probs.shape"
   ]
  },
  {
   "cell_type": "code",
   "execution_count": 47,
   "metadata": {},
   "outputs": [
    {
     "data": {
      "application/vnd.jupyter.widget-view+json": {
       "model_id": "9d45064907c84b32a470f5efa7bbdb08"
      }
     },
     "metadata": {},
     "output_type": "display_data"
    },
    {
     "name": "stdout",
     "output_type": "stream",
     "text": [
      "1998\n"
     ]
    }
   ],
   "source": [
    "dsts_probs_pred = probs_deflate(tmp_probs, dsts_val)\n",
    "print len(dsts_probs_pred)"
   ]
  },
  {
   "cell_type": "code",
   "execution_count": 64,
   "metadata": {},
   "outputs": [
    {
     "data": {
      "application/vnd.jupyter.widget-view+json": {
       "model_id": "951eabf004124686aea3832c56d5b301"
      }
     },
     "metadata": {},
     "output_type": "display_data"
    },
    {
     "name": "stdout",
     "output_type": "stream",
     "text": [
      "0.642642642643\n"
     ]
    }
   ],
   "source": [
    "print get_scores(np.load('data/y_val.npy').item(), dsts_probs_pred)"
   ]
  },
  {
   "cell_type": "code",
   "execution_count": 65,
   "metadata": {
    "collapsed": true
   },
   "outputs": [],
   "source": [
    "np.save('data/probs_dsts_val', dsts_probs)"
   ]
  },
  {
   "cell_type": "markdown",
   "metadata": {},
   "source": [
    "Нейронки:"
   ]
  },
  {
   "cell_type": "code",
   "execution_count": 66,
   "metadata": {
    "collapsed": true
   },
   "outputs": [],
   "source": [
    "nn_scores_train_fnames = ['data/scores_train.npy_norm=1_model=vgg-face-avgpool.npy',\n",
    "                          'data/scores_train.npy_norm=1_model=vgg-face-fc7.npy',\n",
    "                          'data/scores_train.npy_norm=2_model=vgg-face-avgpool.npy',\n",
    "                          'data/scores_train.npy_norm=2_model=vgg-face-fc7.npy']\n",
    "nn_scores_val_fnames = ['data/scores_val.npy_norm=1_model=vgg-face-avgpool.npy',\n",
    "                        'data/scores_val.npy_norm=1_model=vgg-face-fc7.npy',\n",
    "                        'data/scores_val.npy_norm=2_model=vgg-face-avgpool.npy',\n",
    "                        'data/scores_val.npy_norm=2_model=vgg-face-fc7.npy']"
   ]
  },
  {
   "cell_type": "code",
   "execution_count": 68,
   "metadata": {},
   "outputs": [
    {
     "name": "stdout",
     "output_type": "stream",
     "text": [
      "4 4\n"
     ]
    }
   ],
   "source": [
    "nn_scores_train = [np.load(x).item() for x in nn_scores_train_fnames]\n",
    "nn_scores_val = [np.load(x).item() for x in nn_scores_val_fnames]\n",
    "\n",
    "print len(nn_scores_train), len(nn_scores_val)"
   ]
  },
  {
   "cell_type": "code",
   "execution_count": 82,
   "metadata": {},
   "outputs": [
    {
     "data": {
      "application/vnd.jupyter.widget-view+json": {
       "model_id": "66dace5f144a4d4e90cad25c26660467"
      }
     },
     "metadata": {},
     "output_type": "display_data"
    },
    {
     "data": {
      "application/vnd.jupyter.widget-view+json": {
       "model_id": "ed0d4d47ce9543b0a463f39712169220"
      }
     },
     "metadata": {},
     "output_type": "display_data"
    },
    {
     "data": {
      "application/vnd.jupyter.widget-view+json": {
       "model_id": "181a44f1d0c44437a78bbf9637ff507e"
      }
     },
     "metadata": {},
     "output_type": "display_data"
    },
    {
     "data": {
      "application/vnd.jupyter.widget-view+json": {
       "model_id": "84fdcaadc8734a96bac157625c3f7f22"
      }
     },
     "metadata": {},
     "output_type": "display_data"
    },
    {
     "data": {
      "application/vnd.jupyter.widget-view+json": {
       "model_id": "b516a8e7d44245729d78d5dea9b3c0cc"
      }
     },
     "metadata": {},
     "output_type": "display_data"
    }
   ],
   "source": [
    "preds_decl = ['OneVsRestClassifier(RandomForestClassifier(n_estimators=5000, n_jobs=16))',\n",
    "              'OneVsRestClassifier(RandomForestClassifier(n_estimators=1000, n_jobs=16))',\n",
    "              'OneVsRestClassifier(RandomForestClassifier(n_estimators=1000, n_jobs=16))',\n",
    "              'OneVsRestClassifier(RandomForestClassifier(n_estimators=5000, n_jobs=16))']\n",
    "\n",
    "nn_predictors= []\n",
    "for scores, decl in log_progress(zip(nn_scores_train, preds_decl)):\n",
    "    tmp_X, tmp_y, _ = parse_X_y(scores)\n",
    "    nn_predictors.append(eval(decl).fit(tmp_X, tmp_y))"
   ]
  },
  {
   "cell_type": "code",
   "execution_count": 94,
   "metadata": {},
   "outputs": [
    {
     "data": {
      "application/vnd.jupyter.widget-view+json": {
       "model_id": "d9b6e19183034ec2a894f3ff47f4714e"
      }
     },
     "metadata": {},
     "output_type": "display_data"
    },
    {
     "data": {
      "application/vnd.jupyter.widget-view+json": {
       "model_id": "7e87020de2e4452eb958e3b63d4a5789"
      }
     },
     "metadata": {},
     "output_type": "display_data"
    },
    {
     "name": "stdout",
     "output_type": "stream",
     "text": [
      "0.697197197197\n"
     ]
    },
    {
     "data": {
      "application/vnd.jupyter.widget-view+json": {
       "model_id": "5ef25c50c9f64d3d91cb265b090987bf"
      }
     },
     "metadata": {},
     "output_type": "display_data"
    },
    {
     "name": "stdout",
     "output_type": "stream",
     "text": [
      "0.678178178178\n"
     ]
    },
    {
     "data": {
      "application/vnd.jupyter.widget-view+json": {
       "model_id": "540505c8c0d54418bdec1baafe79a1eb"
      }
     },
     "metadata": {},
     "output_type": "display_data"
    },
    {
     "name": "stdout",
     "output_type": "stream",
     "text": [
      "0.695195195195\n"
     ]
    },
    {
     "data": {
      "application/vnd.jupyter.widget-view+json": {
       "model_id": "7b1e2978541b4d79b390e1d2db592482"
      }
     },
     "metadata": {},
     "output_type": "display_data"
    },
    {
     "name": "stdout",
     "output_type": "stream",
     "text": [
      "0.678678678679\n"
     ]
    }
   ],
   "source": [
    "nn_probs_pred = []\n",
    "\n",
    "for scores, predictor in log_progress(zip(nn_scores_val, nn_predictors)):\n",
    "    tmp_X, tmp_y, fnames = parse_X_y(scores)\n",
    "    tmp_probs = predictor.predict_proba(tmp_X)\n",
    "    nn_probs_pred.append(dict(zip(fnames, tmp_probs)))\n",
    "    print np.mean(tmp_y == np.argmax(tmp_probs, axis=1))\n",
    "#     break"
   ]
  },
  {
   "cell_type": "code",
   "execution_count": 96,
   "metadata": {},
   "outputs": [],
   "source": [
    "np.save('data/probs_nn_val', nn_probs_pred)"
   ]
  },
  {
   "cell_type": "markdown",
   "metadata": {},
   "source": [
    "### train + val / test"
   ]
  },
  {
   "cell_type": "code",
   "execution_count": null,
   "metadata": {
    "collapsed": true
   },
   "outputs": [],
   "source": []
  },
  {
   "cell_type": "markdown",
   "metadata": {},
   "source": [
    "## 4. Сбор ансамбля"
   ]
  },
  {
   "cell_type": "code",
   "execution_count": 99,
   "metadata": {
    "collapsed": true
   },
   "outputs": [],
   "source": [
    "probs_dsts_fname = 'data/probs_dsts_val.npy'\n",
    "weight_dsts = 0.66\n",
    "\n",
    "probs_nn_fname = 'data/probs_nn_val.npy'\n",
    "weights_nn = [0.7, 0.7, 0.7, 0.7]"
   ]
  },
  {
   "cell_type": "code",
   "execution_count": 98,
   "metadata": {
    "collapsed": true
   },
   "outputs": [],
   "source": [
    "probs_dsts = np.load(probs_dsts_fname).item()\n",
    "probs_nn = np.load(probs_nn_fname)"
   ]
  },
  {
   "cell_type": "code",
   "execution_count": 103,
   "metadata": {},
   "outputs": [
    {
     "name": "stdout",
     "output_type": "stream",
     "text": [
      "2065\n"
     ]
    }
   ],
   "source": [
    "ys_true = np.load('data/y_val.npy').item()\n",
    "print len(ys_true)"
   ]
  },
  {
   "cell_type": "code",
   "execution_count": 107,
   "metadata": {},
   "outputs": [
    {
     "data": {
      "application/vnd.jupyter.widget-view+json": {
       "model_id": "86e238039e614c20af0249f8a9ea10f6"
      }
     },
     "metadata": {},
     "output_type": "display_data"
    }
   ],
   "source": [
    "y_true = []\n",
    "y_pred = []\n",
    "\n",
    "for fname in log_progress(probs_dsts.keys()):\n",
    "    preds = np.zeros((3,))\n",
    "    preds += probs_dsts[fname] * weight_dsts\n",
    "    for tmp_probs, w in zip(probs_nn, weights):\n",
    "        preds += tmp_probs[fname] * w\n",
    "    y_pred.append(np.argmax(preds))\n",
    "    y_true.append(ys_true[fname])\n",
    "#     break\n",
    "    \n",
    "y_true = np.asarray(y_true)\n",
    "y_pred = np.asarray(y_pred)"
   ]
  },
  {
   "cell_type": "code",
   "execution_count": 108,
   "metadata": {},
   "outputs": [
    {
     "name": "stdout",
     "output_type": "stream",
     "text": [
      "0.724224224224\n"
     ]
    }
   ],
   "source": [
    "print np.mean(y_true == y_pred)"
   ]
  },
  {
   "cell_type": "code",
   "execution_count": 113,
   "metadata": {},
   "outputs": [
    {
     "name": "stdout",
     "output_type": "stream",
     "text": [
      "[[ 0.74  0.18  0.08]\n",
      " [ 0.3   0.63  0.07]\n",
      " [ 0.07  0.13  0.8 ]]\n"
     ]
    },
    {
     "data": {
      "image/png": "[encoded data removed]",
      "text/plain": [
       "<matplotlib.figure.Figure at 0x7f4d4b8351d0>"
      ]
     },
     "metadata": {},
     "output_type": "display_data"
    }
   ],
   "source": [
    "cmtx = confusion_matrix(y_true, y_pred)\n",
    "plot_confusion_matrix(cmtx, ['Negative', 'Neutral', 'Positive'], normalize=True)"
   ]
  },
  {
   "cell_type": "code",
   "execution_count": null,
   "metadata": {
    "collapsed": true
   },
   "outputs": [],
   "source": []
  }
 ],
 "metadata": {
  "kernelspec": {
   "display_name": "Python 2",
   "language": "python",
   "name": "python2"
  },
  "language_info": {
   "codemirror_mode": {
    "name": "ipython",
    "version": 2
   },
   "file_extension": ".py",
   "mimetype": "text/x-python",
   "name": "python",
   "nbconvert_exporter": "python",
   "pygments_lexer": "ipython2",
   "version": "2.7.12"
  }
 },
 "nbformat": 4,
 "nbformat_minor": 2
}
