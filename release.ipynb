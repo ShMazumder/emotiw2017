{
 "cells": [
  {
   "cell_type": "code",
   "execution_count": 1,
   "metadata": {},
   "outputs": [
    {
     "name": "stderr",
     "output_type": "stream",
     "text": [
      "Using TensorFlow backend.\n"
     ]
    }
   ],
   "source": [
    "import os\n",
    "import numpy as np\n",
    "import dlib\n",
    "import cv2\n",
    "from scipy.misc import *\n",
    "import matplotlib.pyplot as plt\n",
    "from glob import glob\n",
    "from keras.engine import  Model\n",
    "from keras.layers import Input\n",
    "from keras_vggface.vggface import VGGFace\n",
    "from sklearn.ensemble import RandomForestClassifier\n",
    "from sklearn.ensemble import GradientBoostingClassifier\n",
    "from sklearn.multiclass import OneVsRestClassifier\n",
    "from sklearn.metrics import confusion_matrix\n",
    "from sklearn.feature_selection import SelectFromModel\n",
    "from sklearn.pipeline import Pipeline\n",
    "import itertools\n",
    "from sklearn.cluster import KMeans, SpectralClustering\n",
    "from sklearn.model_selection import cross_val_score\n",
    "from keras.models import load_model\n",
    "%matplotlib inline"
   ]
  },
  {
   "cell_type": "code",
   "execution_count": 2,
   "metadata": {
    "collapsed": true
   },
   "outputs": [],
   "source": [
    "def log_progress(sequence, every=None, size=None, name='Items'):\n",
    "    from ipywidgets import IntProgress, HTML, VBox\n",
    "    from IPython.display import display\n",
    "\n",
    "    is_iterator = False\n",
    "    if size is None:\n",
    "        try:\n",
    "            size = len(sequence)\n",
    "        except TypeError:\n",
    "            is_iterator = True\n",
    "    if size is not None:\n",
    "        if every is None:\n",
    "            if size <= 200:\n",
    "                every = 1\n",
    "            else:\n",
    "                every = int(size / 200)     # every 0.5%\n",
    "    else:\n",
    "        assert every is not None, 'sequence is iterator, set every'\n",
    "\n",
    "    if is_iterator:\n",
    "        progress = IntProgress(min=0, max=1, value=1)\n",
    "        progress.bar_style = 'info'\n",
    "    else:\n",
    "        progress = IntProgress(min=0, max=size, value=0)\n",
    "    label = HTML()\n",
    "    box = VBox(children=[label, progress])\n",
    "    display(box)\n",
    "\n",
    "    index = 0\n",
    "    try:\n",
    "        for index, record in enumerate(sequence, 1):\n",
    "            if index == 1 or index % every == 0:\n",
    "                if is_iterator:\n",
    "                    label.value = '{name}: {index} / ?'.format(\n",
    "                        name=name,\n",
    "                        index=index\n",
    "                    )\n",
    "                else:\n",
    "                    progress.value = index\n",
    "                    label.value = u'{name}: {index} / {size}'.format(\n",
    "                        name=name,\n",
    "                        index=index,\n",
    "                        size=size\n",
    "                    )\n",
    "            yield record\n",
    "    except:\n",
    "        progress.bar_style = 'danger'\n",
    "        raise\n",
    "    else:\n",
    "        progress.bar_style = 'success'\n",
    "        progress.value = index\n",
    "        label.value = \"{name}: {index}\".format(\n",
    "            name=name,\n",
    "            index=str(index or '?')\n",
    "        )"
   ]
  },
  {
   "cell_type": "code",
   "execution_count": 3,
   "metadata": {
    "collapsed": true
   },
   "outputs": [],
   "source": [
    "CLASS2LBL = {'Negative': 0, 'Neutral': 1, 'Positive': 2}\n",
    "LBL2CLASS = {0: 'Negative', 1: 'Neutral', 2: 'Positive'}\n",
    "\n",
    "def parse_lbl(fname):\n",
    "    _class = fname.split('/')[-2]\n",
    "    return CLASS2LBL[_class]"
   ]
  },
  {
   "cell_type": "code",
   "execution_count": 4,
   "metadata": {
    "collapsed": true
   },
   "outputs": [],
   "source": [
    "def plot_confusion_matrix(cm, classes,\n",
    "                          normalize=False,\n",
    "                          cmap=plt.cm.Blues):\n",
    "    plt.figure(figsize=(15, 10))\n",
    "\n",
    "    if normalize:\n",
    "        cm = cm.astype('float') / cm.sum(axis=1)[:, np.newaxis]\n",
    "        cm = np.round(cm, 2)\n",
    "        print(cm)\n",
    "    \n",
    "    plt.imshow(cm, interpolation='nearest', cmap=cmap)\n",
    "    plt.title('Confusion matrix')\n",
    "    plt.colorbar()\n",
    "    tick_marks = np.arange(len(classes))\n",
    "    plt.xticks(tick_marks, classes, rotation=45)\n",
    "    plt.yticks(tick_marks, classes)\n",
    "\n",
    "    thresh = cm.max() / 2.\n",
    "    for i, j in itertools.product(range(cm.shape[0]), range(cm.shape[1])):\n",
    "        plt.text(j, i, cm[i, j],\n",
    "                 horizontalalignment=\"center\",\n",
    "                 color=\"white\" if cm[i, j] > thresh else \"black\")\n",
    "\n",
    "    plt.tight_layout()\n",
    "    plt.ylabel('True labels')\n",
    "    plt.xlabel('Predicted labels')\n",
    "    plt.savefig('confusion_release.png')"
   ]
  },
  {
   "cell_type": "markdown",
   "metadata": {},
   "source": [
    "## 1. Соберем лица и лендмарки"
   ]
  },
  {
   "cell_type": "code",
   "execution_count": 5,
   "metadata": {
    "collapsed": true
   },
   "outputs": [],
   "source": [
    "DATA_PATH = '/home/_datasets_/emotiw2017/'\n",
    "TRAIN_DIR = 'train'\n",
    "VAL_DIR = 'val'\n",
    "TEST_DIR = 'test'\n",
    "IMG_TMPL = '*.jpg'\n",
    "PREDICTOR_PATH = '/home/arassadin/distr/shape_predictor_68_face_landmarks.dat'\n",
    "OUT_SIZE = (224, 224)"
   ]
  },
  {
   "cell_type": "code",
   "execution_count": 6,
   "metadata": {
    "collapsed": true
   },
   "outputs": [],
   "source": [
    "detector = dlib.get_frontal_face_detector()\n",
    "predictor = dlib.shape_predictor(PREDICTOR_PATH)\n",
    "face_cascade = cv2.CascadeClassifier('/home/arassadin/distr/opencv/data/haarcascades_GPU/haarcascade_frontalface_alt2.xml')"
   ]
  },
  {
   "cell_type": "code",
   "execution_count": 7,
   "metadata": {},
   "outputs": [
    {
     "name": "stdout",
     "output_type": "stream",
     "text": [
      "3630 2065 772\n"
     ]
    }
   ],
   "source": [
    "files_train = glob(os.path.join(DATA_PATH, TRAIN_DIR, '*', '*'))\n",
    "files_val = glob(os.path.join(DATA_PATH, VAL_DIR, '*', '*'))\n",
    "files_test = glob(os.path.join(DATA_PATH, TEST_DIR, '*'))\n",
    "\n",
    "print len(files_train), len(files_val), len(files_test)"
   ]
  },
  {
   "cell_type": "code",
   "execution_count": 8,
   "metadata": {
    "collapsed": true
   },
   "outputs": [],
   "source": [
    "def find_faces_dlib(img):\n",
    "    try:\n",
    "        rects = detector(img, 1)\n",
    "    except:\n",
    "        return None\n",
    "    faces = []\n",
    "\n",
    "    for rect in rects:\n",
    "        y1 = rect.top()\n",
    "        if y1 < 0:\n",
    "            y1 = 0\n",
    "        y2 = rect.bottom()\n",
    "        if y2 > img.shape[0]:\n",
    "            y2 = img.shape[0]\n",
    "        x1 = rect.left()\n",
    "        if x1 < 0:\n",
    "            x1 = 0\n",
    "        x2 = rect.right()\n",
    "        if x2 > img.shape[1]:\n",
    "            x2 = img.shape[1]\n",
    "        faces.append(img[y1:y2, x1:x2])\n",
    "    \n",
    "    return faces"
   ]
  },
  {
   "cell_type": "code",
   "execution_count": 9,
   "metadata": {
    "collapsed": true
   },
   "outputs": [],
   "source": [
    "def find_faces_ocv(img):\n",
    "    gray = cv2.cvtColor(img, cv2.COLOR_RGB2GRAY)\n",
    "    dets = face_cascade.detectMultiScale(gray, 1.3, 4)\n",
    "    faces = [img[y : y + h, x : x + w] for x, y, w, h in dets]        \n",
    "    return faces"
   ]
  },
  {
   "cell_type": "code",
   "execution_count": 10,
   "metadata": {
    "collapsed": true
   },
   "outputs": [],
   "source": [
    "def get_dst(p1, p2):\n",
    "    x1, y1 = p1\n",
    "    x2, y2 = p2\n",
    "    return np.sqrt(np.square(y2 - y1) + np.square(x2 - x1))"
   ]
  },
  {
   "cell_type": "code",
   "execution_count": 11,
   "metadata": {
    "collapsed": true
   },
   "outputs": [],
   "source": [
    "def find_landmarks(face):\n",
    "    bbox = dlib.rectangle(0, 0, face.shape[1] - 1, face.shape[0] - 1)\n",
    "    shape = predictor(face, bbox)\n",
    "    landmarks = [(shape.part(i).x, shape.part(i).y) for i in range(68)]\n",
    "    leftmost = min([l[0] for l in landmarks])\n",
    "    topmost = min([l[1] for l in landmarks])\n",
    "    landmarks = [(l[0] - leftmost, l[1] - topmost) for l in landmarks]\n",
    "    dsts = []\n",
    "    for i in range(68):\n",
    "        for j in range(i + 1, 68):\n",
    "            dsts.append(get_dst(landmarks[i], landmarks[j]))\n",
    "    dsts = np.asarray(dsts)\n",
    "    dsts /= dsts.max()\n",
    "    return dsts"
   ]
  },
  {
   "cell_type": "code",
   "execution_count": 12,
   "metadata": {},
   "outputs": [
    {
     "data": {
      "application/vnd.jupyter.widget-view+json": {
       "model_id": "905538d095db450a8c357eed410dde71"
      }
     },
     "metadata": {},
     "output_type": "display_data"
    },
    {
     "name": "stdout",
     "output_type": "stream",
     "text": [
      "3630 3553 3553\n"
     ]
    },
    {
     "data": {
      "application/vnd.jupyter.widget-view+json": {
       "model_id": "b805a5af8919451f85fbf410afa0d23e"
      }
     },
     "metadata": {},
     "output_type": "display_data"
    },
    {
     "name": "stdout",
     "output_type": "stream",
     "text": [
      "2065 2020 2020\n"
     ]
    },
    {
     "data": {
      "application/vnd.jupyter.widget-view+json": {
       "model_id": "10eb3eaa6c3445e49ce54e2932f3b770"
      }
     },
     "metadata": {},
     "output_type": "display_data"
    },
    {
     "name": "stdout",
     "output_type": "stream",
     "text": [
      "Something wrong with image /home/_datasets_/emotiw2017/test/1997_Convocation.jpg!\n",
      "Something wrong with image /home/_datasets_/emotiw2017/test/2011Fall_Convocation.jpg!\n",
      "772 715 715\n",
      "No faces found on 163 photos\n"
     ]
    }
   ],
   "source": [
    "if not os.path.exists('./data'):\n",
    "    os.makedirs('./data')\n",
    "\n",
    "fault_counter = 0\n",
    "def routine(files):\n",
    "    global fault_counter\n",
    "    data_faces, data_dsts = {}, {}\n",
    "    for fname in log_progress(files):\n",
    "        img = imread(fname, mode='RGB')\n",
    "        faces = find_faces_dlib(img)\n",
    "        if faces is None:\n",
    "            print 'Something wrong with image {}!'.format(fname)\n",
    "            continue\n",
    "        if len(faces) == 0:\n",
    "            faces = find_faces_ocv(img)\n",
    "            if len(faces) == 0:\n",
    "                fault_counter += 1\n",
    "                continue\n",
    "\n",
    "        faces = [imresize(f, OUT_SIZE) for f in faces]\n",
    "        dsts = [find_landmarks(f) for f in faces]\n",
    "        \n",
    "        data_faces[fname] = faces\n",
    "        data_dsts[fname] = dsts\n",
    "    return data_faces, data_dsts\n",
    "\n",
    "faces_train, dsts_train = routine(files_train)\n",
    "# np.save('data/faces_train', faces_train); \n",
    "np.save('data/dsts_train_sized', dsts_train)\n",
    "print len(files_train), len(faces_train), len(dsts_train)\n",
    "\n",
    "faces_val, dsts_val = routine(files_val)\n",
    "# np.save('data/faces_val', faces_val); \n",
    "np.save('data/dsts_val_sized', dsts_val)\n",
    "print len(files_val), len(faces_val), len(dsts_val)\n",
    "\n",
    "faces_test, dsts_test = routine(files_test[14:])\n",
    "# np.save('data/faces_test', faces_test); \n",
    "np.save('data/dsts_test_sized', dsts_test)\n",
    "print len(files_test), len(faces_test), len(dsts_test)\n",
    "\n",
    "print 'No faces found on {} photos'.format(fault_counter)"
   ]
  },
  {
   "cell_type": "code",
   "execution_count": 56,
   "metadata": {},
   "outputs": [
    {
     "name": "stdout",
     "output_type": "stream",
     "text": [
      "[0 1 2]\n",
      "[0 1 2]\n"
     ]
    }
   ],
   "source": [
    "y_train = {}\n",
    "for fname in files_train:\n",
    "    y_train[fname] = parse_lbl(fname)\n",
    "    \n",
    "y_val = {}\n",
    "for fname in files_val:\n",
    "    y_val[fname] = parse_lbl(fname)\n",
    "    \n",
    "print np.unique(y_train.values())\n",
    "print np.unique(y_val.values())\n",
    "\n",
    "np.save('data/y_train', y_train)\n",
    "np.save('data/y_val', y_val)"
   ]
  },
  {
   "cell_type": "markdown",
   "metadata": {},
   "source": [
    "## 2. Сбор нейросетевых скорингов"
   ]
  },
  {
   "cell_type": "code",
   "execution_count": 5,
   "metadata": {
    "collapsed": true
   },
   "outputs": [],
   "source": [
    "def normalize_vggface_1(arr):\n",
    "    arr = arr[::-1, :, :].astype(np.float32)\n",
    "\n",
    "    arr[0, :, :] -= 93.5940\n",
    "    arr[1, :, :] -= 104.7624\n",
    "    arr[2, :, :] -= 129.1863\n",
    "\n",
    "    return arr"
   ]
  },
  {
   "cell_type": "code",
   "execution_count": 6,
   "metadata": {
    "collapsed": true
   },
   "outputs": [],
   "source": [
    "def normalize_vggface_2(arr):\n",
    "    arr = arr[:, :, :].astype(np.float32)\n",
    "\n",
    "    arr[0, :, :] -= 93.5940\n",
    "    arr[1, :, :] -= 104.7624\n",
    "    arr[2, :, :] -= 129.1863\n",
    "\n",
    "    return arr"
   ]
  },
  {
   "cell_type": "code",
   "execution_count": 7,
   "metadata": {
    "collapsed": true
   },
   "outputs": [],
   "source": [
    "def normalize_vggface_3(arr):\n",
    "    arr = arr[::-1, :, :].astype(np.float32)\n",
    "\n",
    "    arr[0, :, :] -= 93.5940\n",
    "    arr[1, :, :] -= 104.7624\n",
    "    arr[2, :, :] -= 129.1863\n",
    "    \n",
    "    arr = arr[::-1, :, :]\n",
    "\n",
    "    return arr"
   ]
  },
  {
   "cell_type": "code",
   "execution_count": 8,
   "metadata": {},
   "outputs": [
    {
     "name": "stderr",
     "output_type": "stream",
     "text": [
      "/usr/local/lib/python2.7/dist-packages/keras_vggface/vggface.py:166: UserWarning: You are using the TensorFlow backend, yet you are using the Theano image data format convention (`image_data_format=\"channels_first\"`). For best performance, set `image_data_format=\"channels_last\"` in your Keras config at ~/.keras/keras.json.\n",
      "  warnings.warn('You are using the TensorFlow backend, yet you '\n"
     ]
    },
    {
     "data": {
      "application/vnd.jupyter.widget-view+json": {
       "model_id": "add3167719804181981ebd0f64bb3425"
      }
     },
     "metadata": {},
     "output_type": "display_data"
    },
    {
     "data": {
      "application/vnd.jupyter.widget-view+json": {
       "model_id": "2548fcfc37444660ad5e4bf2b0cd638b"
      }
     },
     "metadata": {},
     "output_type": "display_data"
    },
    {
     "data": {
      "application/vnd.jupyter.widget-view+json": {
       "model_id": "b02ea3e144764f6598648d4728e74fe0"
      }
     },
     "metadata": {},
     "output_type": "display_data"
    },
    {
     "data": {
      "application/vnd.jupyter.widget-view+json": {
       "model_id": "6b6e10fc3f7a40b5a31c7d44002faa51"
      }
     },
     "metadata": {},
     "output_type": "display_data"
    },
    {
     "data": {
      "application/vnd.jupyter.widget-view+json": {
       "model_id": "c8dfc671e1ef4050ac0a968213f24ee5"
      }
     },
     "metadata": {},
     "output_type": "display_data"
    },
    {
     "data": {
      "application/vnd.jupyter.widget-view+json": {
       "model_id": "7197389117b146ad88d45f1bd0fb46c7"
      }
     },
     "metadata": {},
     "output_type": "display_data"
    },
    {
     "data": {
      "application/vnd.jupyter.widget-view+json": {
       "model_id": "e31fb951e1b14805aac3f13f03f561ec"
      }
     },
     "metadata": {},
     "output_type": "display_data"
    },
    {
     "data": {
      "application/vnd.jupyter.widget-view+json": {
       "model_id": "ce0a1def255340fc9800298ae3520c49"
      }
     },
     "metadata": {},
     "output_type": "display_data"
    },
    {
     "data": {
      "application/vnd.jupyter.widget-view+json": {
       "model_id": "10bb72328c5e4bdaa6d19707a974f03e"
      }
     },
     "metadata": {},
     "output_type": "display_data"
    },
    {
     "data": {
      "application/vnd.jupyter.widget-view+json": {
       "model_id": "7cebdfd4610147bf8683c20d4198808e"
      }
     },
     "metadata": {},
     "output_type": "display_data"
    },
    {
     "data": {
      "application/vnd.jupyter.widget-view+json": {
       "model_id": "b51057a2219d40f3878c9d15a6c925cc"
      }
     },
     "metadata": {},
     "output_type": "display_data"
    },
    {
     "data": {
      "application/vnd.jupyter.widget-view+json": {
       "model_id": "fa68ec01d395457296ca6882ba296c48"
      }
     },
     "metadata": {},
     "output_type": "display_data"
    }
   ],
   "source": [
    "def routine1(data, model, norm_f):\n",
    "    scores = {}\n",
    "    for fname in log_progress(data.keys()):\n",
    "#         _class = fname.split('/')[-2]\n",
    "#         lbl = CLASS2LBL[_class]\n",
    "#         scores_y.append(lbl)\n",
    "        \n",
    "        if len(data[fname]) < 1:\n",
    "            continue\n",
    "        faces = np.asarray([norm_f(np.moveaxis(face, 2, 0)) for face in data[fname]])\n",
    "        preds = model.predict(faces)\n",
    "        scores[fname] = np.median(preds, axis=0)\n",
    "        # break\n",
    "    return scores\n",
    "\n",
    "def routine2(fname, model, m='default'):\n",
    "    data = np.load(fname).item()\n",
    "    for i, norm_f in zip([1, 3], [normalize_vggface_1, normalize_vggface_3]):\n",
    "        scores = routine1(data, model, norm_f)\n",
    "        postfix = os.path.basename(fname).split('_')[-1]\n",
    "        np.save('data/scores_{}_norm={}_model={}'.format(postfix, i, m), scores)\n",
    "\n",
    "model = VGGFace(include_top=False, input_shape=(3, 224, 224), pooling='avg')\n",
    "routine2('data/faces_train.npy', model, m='vgg-face-avgpool')\n",
    "routine2('data/faces_val.npy', model, m='vgg-face-avgpool')\n",
    "routine2('data/faces_test.npy', model, m='vgg-face-avgpool')\n",
    "\n",
    "vgg_faces = VGGFace()\n",
    "out = vgg_faces.get_layer('fc7').output\n",
    "model = Model(vgg_faces.input, out)\n",
    "routine2('data/faces_train.npy', model, m='vgg-face-fc7')\n",
    "routine2('data/faces_val.npy', model, m='vgg-face-fc7')\n",
    "routine2('data/faces_test.npy', model, m='vgg-face-fc7')"
   ]
  },
  {
   "cell_type": "code",
   "execution_count": 5,
   "metadata": {},
   "outputs": [
    {
     "name": "stdout",
     "output_type": "stream",
     "text": [
      "2065\n"
     ]
    },
    {
     "data": {
      "application/vnd.jupyter.widget-view+json": {
       "model_id": "0c8349b97a1f4303be5aba96f9a2f5e0"
      }
     },
     "metadata": {},
     "output_type": "display_data"
    }
   ],
   "source": [
    "frames_val = np.load('data_phase3/frames_val.npy').item()\n",
    "print len(frames_val)\n",
    "\n",
    "model = load_model('nn_raw/model.h5')\n",
    "\n",
    "fscores_val = {}\n",
    "for fname in log_progress(frames_val.keys()):\n",
    "    fscores_val[fname] = model.predict(np.expand_dims(frames_val[fname], axis=0))[0]\n",
    "#     break\n",
    "np.save('data/probs_frames_val', fscores_val)"
   ]
  },
  {
   "cell_type": "code",
   "execution_count": 6,
   "metadata": {},
   "outputs": [
    {
     "name": "stdout",
     "output_type": "stream",
     "text": [
      "770\n"
     ]
    },
    {
     "data": {
      "application/vnd.jupyter.widget-view+json": {
       "model_id": "c6bb1775adcf49ec8c4d910359d12760"
      }
     },
     "metadata": {},
     "output_type": "display_data"
    }
   ],
   "source": [
    "frames_test = np.load('data_phase3/frames_test.npy').item()\n",
    "print len(frames_test)\n",
    "\n",
    "model = load_model('nn_raw/model_release.h5')\n",
    "\n",
    "fscores_test = {}\n",
    "for fname in log_progress(frames_test.keys()):\n",
    "    fscores_test[fname] = model.predict(np.expand_dims(frames_test[fname], axis=0))[0]\n",
    "#     break\n",
    "np.save('data/probs_frames_test', fscores_test)"
   ]
  },
  {
   "cell_type": "markdown",
   "metadata": {},
   "source": [
    "## 3. Обучение слабых классификаторов и сбор их скорингов"
   ]
  },
  {
   "cell_type": "code",
   "execution_count": 6,
   "metadata": {
    "collapsed": true
   },
   "outputs": [],
   "source": [
    "def parse_X_y_flat(d):\n",
    "    X, y = [], []\n",
    "    for fname in log_progress(d.keys()):\n",
    "        for el in d[fname]:\n",
    "            y.append(parse_lbl(fname))\n",
    "            X.append(el)\n",
    "    X = np.asarray(X)\n",
    "    y = np.asarray(y, np.uint8)\n",
    "    return X, y"
   ]
  },
  {
   "cell_type": "code",
   "execution_count": 7,
   "metadata": {
    "collapsed": true
   },
   "outputs": [],
   "source": [
    "def parse_X_flat(d):\n",
    "    X = []\n",
    "    for fname in log_progress(d.keys()):\n",
    "        for el in d[fname]:\n",
    "            X.append(el)\n",
    "    X = np.asarray(X)\n",
    "    return X"
   ]
  },
  {
   "cell_type": "code",
   "execution_count": 8,
   "metadata": {
    "collapsed": true
   },
   "outputs": [],
   "source": [
    "def parse_X_y(d):\n",
    "    X, y = [], []\n",
    "    for fname in log_progress(d.keys()):\n",
    "        X.append(d[fname])\n",
    "        y.append(parse_lbl(fname))\n",
    "    X = np.asarray(X)\n",
    "    y = np.asarray(y, np.uint8)\n",
    "    return X, y, d.keys()"
   ]
  },
  {
   "cell_type": "code",
   "execution_count": 9,
   "metadata": {
    "collapsed": true
   },
   "outputs": [],
   "source": [
    "def parse_X(d):\n",
    "    X = []\n",
    "    for fname in log_progress(d.keys()):\n",
    "        X.append(d[fname])\n",
    "    X = np.asarray(X)\n",
    "    return X, d.keys()"
   ]
  },
  {
   "cell_type": "code",
   "execution_count": 10,
   "metadata": {
    "collapsed": true
   },
   "outputs": [],
   "source": [
    "def probs_deflate(probs_pred, d):\n",
    "    probs_deflated = {}\n",
    "\n",
    "    cur_position = 0\n",
    "    for fname in log_progress(d.keys()):\n",
    "        q = len(d[fname])\n",
    "        score = np.sum(probs_pred[cur_position : cur_position + q], axis=0)\n",
    "        probs_deflated[fname] = score\n",
    "        cur_position += q\n",
    "    #     break\n",
    "\n",
    "    return probs_deflated"
   ]
  },
  {
   "cell_type": "code",
   "execution_count": 11,
   "metadata": {
    "collapsed": true
   },
   "outputs": [],
   "source": [
    "def get_scores(y_true, probs_pred):\n",
    "    accuracy = 0.0\n",
    "    for f in log_progress(probs_pred.keys()):\n",
    "        if y_true[f] == np.argmax(probs_pred[f]):\n",
    "            accuracy += 1\n",
    "    return accuracy / len(probs_pred)"
   ]
  },
  {
   "cell_type": "markdown",
   "metadata": {},
   "source": [
    "### train / val"
   ]
  },
  {
   "cell_type": "markdown",
   "metadata": {},
   "source": [
    "**Лендмарки:**"
   ]
  },
  {
   "cell_type": "code",
   "execution_count": 11,
   "metadata": {},
   "outputs": [
    {
     "data": {
      "application/vnd.jupyter.widget-view+json": {
       "model_id": "fa9993cf15b64c61afe1c27243b527a4"
      }
     },
     "metadata": {},
     "output_type": "display_data"
    },
    {
     "data": {
      "application/vnd.jupyter.widget-view+json": {
       "model_id": "a86da368b567475eafebd35276c0d027"
      }
     },
     "metadata": {},
     "output_type": "display_data"
    },
    {
     "name": "stdout",
     "output_type": "stream",
     "text": [
      "(12826, 2278) (12826,)\n",
      "(7247, 2278) (7247,)\n"
     ]
    }
   ],
   "source": [
    "dsts_X_train, dsts_y_train = parse_X_y_flat(np.load('data/dsts_train_sized.npy').item())\n",
    "dsts_val = np.load('data/dsts_val_sized.npy').item()\n",
    "dsts_X_val, dsts_y_val = parse_X_y_flat(dsts_val)\n",
    "\n",
    "print dsts_X_train.shape, dsts_y_train.shape\n",
    "print dsts_X_val.shape, dsts_y_val.shape"
   ]
  },
  {
   "cell_type": "code",
   "execution_count": 12,
   "metadata": {
    "collapsed": true
   },
   "outputs": [],
   "source": [
    "predictor_dsts = OneVsRestClassifier(RandomForestClassifier(n_estimators=5000, n_jobs=16)).fit(dsts_X_train, dsts_y_train)"
   ]
  },
  {
   "cell_type": "raw",
   "metadata": {},
   "source": [
    "predictor_dsts = Pipeline([\n",
    "  ('feature_selection', SelectFromModel(RandomForestClassifier(n_estimators=100))),\n",
    "  ('classification', OneVsRestClassifier(GradientBoostingClassifier(n_estimators=1000)))\n",
    "])\n",
    "predictor_dsts.fit(dsts_X_train, dsts_y_train)"
   ]
  },
  {
   "cell_type": "code",
   "execution_count": 13,
   "metadata": {},
   "outputs": [
    {
     "name": "stdout",
     "output_type": "stream",
     "text": [
      "(7247, 3)\n"
     ]
    }
   ],
   "source": [
    "tmp_probs = predictor_dsts.predict_proba(dsts_X_val)\n",
    "print tmp_probs.shape"
   ]
  },
  {
   "cell_type": "code",
   "execution_count": 14,
   "metadata": {},
   "outputs": [
    {
     "data": {
      "application/vnd.jupyter.widget-view+json": {
       "model_id": "f8d9f4d7bb6d49feb1b2f31945f25e80"
      }
     },
     "metadata": {},
     "output_type": "display_data"
    },
    {
     "name": "stdout",
     "output_type": "stream",
     "text": [
      "2020\n"
     ]
    }
   ],
   "source": [
    "dsts_probs_pred = probs_deflate(tmp_probs, dsts_val)\n",
    "print len(dsts_probs_pred)"
   ]
  },
  {
   "cell_type": "code",
   "execution_count": 15,
   "metadata": {},
   "outputs": [
    {
     "data": {
      "application/vnd.jupyter.widget-view+json": {
       "model_id": "fc8dfe7fe3094229bfffc1d004705a32"
      }
     },
     "metadata": {},
     "output_type": "display_data"
    },
    {
     "name": "stdout",
     "output_type": "stream",
     "text": [
      "0.647524752475\n"
     ]
    }
   ],
   "source": [
    "print get_scores(np.load('data/y_val.npy').item(), dsts_probs_pred)"
   ]
  },
  {
   "cell_type": "code",
   "execution_count": 16,
   "metadata": {
    "collapsed": true
   },
   "outputs": [],
   "source": [
    "np.save('data/probs_dsts_val_sized', dsts_probs_pred)"
   ]
  },
  {
   "cell_type": "raw",
   "metadata": {
    "collapsed": true
   },
   "source": [
    "scorings_all = probs_deflate(predictor_dsts.predict_proba(dsts_X_train), np.load('data/dsts_train.npy').item())"
   ]
  },
  {
   "cell_type": "markdown",
   "metadata": {},
   "source": [
    "**Нейронки:**"
   ]
  },
  {
   "cell_type": "code",
   "execution_count": 19,
   "metadata": {
    "collapsed": true
   },
   "outputs": [],
   "source": [
    "nn_scores_train_fnames = ['data/scores_train.npy_norm=1_model=vgg-face-avgpool.npy',\n",
    "                          'data/scores_train.npy_norm=1_model=vgg-face-fc7.npy',\n",
    "                          'data/scores_train.npy_norm=3_model=vgg-face-avgpool.npy',\n",
    "                          'data/scores_train.npy_norm=3_model=vgg-face-fc7.npy']\n",
    "nn_scores_val_fnames = ['data/scores_val.npy_norm=1_model=vgg-face-avgpool.npy',\n",
    "                        'data/scores_val.npy_norm=1_model=vgg-face-fc7.npy',\n",
    "                        'data/scores_val.npy_norm=3_model=vgg-face-avgpool.npy',\n",
    "                        'data/scores_val.npy_norm=3_model=vgg-face-fc7.npy']"
   ]
  },
  {
   "cell_type": "code",
   "execution_count": 20,
   "metadata": {},
   "outputs": [
    {
     "name": "stdout",
     "output_type": "stream",
     "text": [
      "4 4\n"
     ]
    }
   ],
   "source": [
    "nn_scores_train = [np.load(x).item() for x in nn_scores_train_fnames]\n",
    "nn_scores_val = [np.load(x).item() for x in nn_scores_val_fnames]\n",
    "\n",
    "print len(nn_scores_train), len(nn_scores_val)"
   ]
  },
  {
   "cell_type": "code",
   "execution_count": 21,
   "metadata": {},
   "outputs": [
    {
     "data": {
      "application/vnd.jupyter.widget-view+json": {
       "model_id": "8a620b2b2ec9475789f3c93618442026"
      }
     },
     "metadata": {},
     "output_type": "display_data"
    },
    {
     "data": {
      "application/vnd.jupyter.widget-view+json": {
       "model_id": "d1d86e03bd8940a5a452004ba0093216"
      }
     },
     "metadata": {},
     "output_type": "display_data"
    },
    {
     "data": {
      "application/vnd.jupyter.widget-view+json": {
       "model_id": "3e506b0ef2884481a32b428840444e7c"
      }
     },
     "metadata": {},
     "output_type": "display_data"
    },
    {
     "data": {
      "application/vnd.jupyter.widget-view+json": {
       "model_id": "f96d7a65cf794be3bf9061129a9a7695"
      }
     },
     "metadata": {},
     "output_type": "display_data"
    },
    {
     "data": {
      "application/vnd.jupyter.widget-view+json": {
       "model_id": "a05c82c0bf3644f3881282671394b861"
      }
     },
     "metadata": {},
     "output_type": "display_data"
    }
   ],
   "source": [
    "preds_decl = ['OneVsRestClassifier(RandomForestClassifier(n_estimators=5000, n_jobs=16))',\n",
    "              'OneVsRestClassifier(RandomForestClassifier(n_estimators=1000, n_jobs=16))',\n",
    "              'OneVsRestClassifier(RandomForestClassifier(n_estimators=1000, n_jobs=16))',\n",
    "              'OneVsRestClassifier(RandomForestClassifier(n_estimators=5000, n_jobs=16))']\n",
    "\n",
    "nn_predictors= []\n",
    "for scores, decl in log_progress(zip(nn_scores_train, preds_decl)):\n",
    "    tmp_X, tmp_y, _ = parse_X_y(scores)\n",
    "    nn_predictors.append(eval(decl).fit(tmp_X, tmp_y))"
   ]
  },
  {
   "cell_type": "code",
   "execution_count": 25,
   "metadata": {},
   "outputs": [
    {
     "data": {
      "application/vnd.jupyter.widget-view+json": {
       "model_id": "da184ff9a70c40869051d171ea2fc284"
      }
     },
     "metadata": {},
     "output_type": "display_data"
    },
    {
     "data": {
      "application/vnd.jupyter.widget-view+json": {
       "model_id": "5dfa7a21ebd3439382299336df6b41eb"
      }
     },
     "metadata": {},
     "output_type": "display_data"
    },
    {
     "name": "stdout",
     "output_type": "stream",
     "text": [
      "0.69603960396\n"
     ]
    },
    {
     "data": {
      "application/vnd.jupyter.widget-view+json": {
       "model_id": "9e5935a312f945c3aa4ac4e6d1e9e304"
      }
     },
     "metadata": {},
     "output_type": "display_data"
    },
    {
     "name": "stdout",
     "output_type": "stream",
     "text": [
      "0.683168316832\n"
     ]
    },
    {
     "data": {
      "application/vnd.jupyter.widget-view+json": {
       "model_id": "610009ec3e494247afbf0009a5c3ea14"
      }
     },
     "metadata": {},
     "output_type": "display_data"
    },
    {
     "name": "stdout",
     "output_type": "stream",
     "text": [
      "0.698514851485\n"
     ]
    },
    {
     "data": {
      "application/vnd.jupyter.widget-view+json": {
       "model_id": "f925d7b9e0704a5f92e1ebdc5ee0f281"
      }
     },
     "metadata": {},
     "output_type": "display_data"
    },
    {
     "name": "stdout",
     "output_type": "stream",
     "text": [
      "0.676732673267\n"
     ]
    }
   ],
   "source": [
    "nn_probs_pred = []\n",
    "\n",
    "for scores, predictor in log_progress(zip(nn_scores_val, nn_predictors)):\n",
    "    tmp_X, tmp_y, fnames = parse_X_y(scores)\n",
    "    tmp_probs = predictor.predict_proba(tmp_X)\n",
    "    nn_probs_pred.append(dict(zip(fnames, tmp_probs)))\n",
    "    print np.mean(tmp_y == np.argmax(tmp_probs, axis=1))\n",
    "#     break"
   ]
  },
  {
   "cell_type": "code",
   "execution_count": 27,
   "metadata": {
    "collapsed": true
   },
   "outputs": [],
   "source": [
    "np.save('data/probs_nn_val', nn_probs_pred)"
   ]
  },
  {
   "cell_type": "markdown",
   "metadata": {},
   "source": [
    "**Стэкинг**"
   ]
  },
  {
   "cell_type": "code",
   "execution_count": 12,
   "metadata": {},
   "outputs": [
    {
     "data": {
      "application/vnd.jupyter.widget-view+json": {
       "model_id": "b5bf18b8f5c5415cbbcb6a32360d9140"
      }
     },
     "metadata": {},
     "output_type": "display_data"
    },
    {
     "data": {
      "application/vnd.jupyter.widget-view+json": {
       "model_id": "380709739122444a9f99b6d9a08603dd"
      }
     },
     "metadata": {},
     "output_type": "display_data"
    },
    {
     "data": {
      "application/vnd.jupyter.widget-view+json": {
       "model_id": "3881a3079089456a8bdb6df4638c3cfd"
      }
     },
     "metadata": {},
     "output_type": "display_data"
    },
    {
     "data": {
      "application/vnd.jupyter.widget-view+json": {
       "model_id": "13dac33d2f5d4892905aa7d957bf2da4"
      }
     },
     "metadata": {},
     "output_type": "display_data"
    },
    {
     "name": "stdout",
     "output_type": "stream",
     "text": [
      "2020\n"
     ]
    }
   ],
   "source": [
    "scorings_all_val = np.load('data/probs_dsts_val.npy').item()\n",
    "for d in np.load('data/probs_nn_val.npy'):\n",
    "    for fname in log_progress(d.keys()):\n",
    "        scorings_all_val[fname] = np.append(scorings_all_val[fname], d[fname])\n",
    "\n",
    "print len(scorings_all_val)"
   ]
  },
  {
   "cell_type": "code",
   "execution_count": 18,
   "metadata": {},
   "outputs": [
    {
     "data": {
      "application/vnd.jupyter.widget-view+json": {
       "model_id": "2ceb5b24b20b4b19968c44b570963852"
      }
     },
     "metadata": {},
     "output_type": "display_data"
    },
    {
     "name": "stdout",
     "output_type": "stream",
     "text": [
      "(2020, 15) (2020,)\n"
     ]
    }
   ],
   "source": [
    "X, y, _ = parse_X_y(scorings_all_val)\n",
    "print X.shape, y.shape"
   ]
  },
  {
   "cell_type": "code",
   "execution_count": 23,
   "metadata": {},
   "outputs": [
    {
     "name": "stdout",
     "output_type": "stream",
     "text": [
      "[CV]  ................................................................\n",
      "[CV] ................................................. , total=   2.4s\n",
      "[CV]  ................................................................\n"
     ]
    },
    {
     "name": "stderr",
     "output_type": "stream",
     "text": [
      "[Parallel(n_jobs=1)]: Done   1 out of   1 | elapsed:    2.4s remaining:    0.0s\n"
     ]
    },
    {
     "name": "stdout",
     "output_type": "stream",
     "text": [
      "[CV] ................................................. , total=   2.2s\n",
      "[CV]  ................................................................\n",
      "[CV] ................................................. , total=   2.3s\n",
      "[CV]  ................................................................\n",
      "[CV] ................................................. , total=   2.1s\n",
      "[CV]  ................................................................\n",
      "[CV] ................................................. , total=   2.0s\n",
      "[CV]  ................................................................\n",
      "[CV] ................................................. , total=   2.1s\n",
      "[CV]  ................................................................\n",
      "[CV] ................................................. , total=   2.3s\n",
      "[CV]  ................................................................\n",
      "[CV] ................................................. , total=   2.0s\n",
      "[CV]  ................................................................\n",
      "[CV] ................................................. , total=   2.3s\n",
      "[CV]  ................................................................\n",
      "[CV] ................................................. , total=   1.7s\n"
     ]
    },
    {
     "name": "stderr",
     "output_type": "stream",
     "text": [
      "[Parallel(n_jobs=1)]: Done  10 out of  10 | elapsed:   21.5s finished\n"
     ]
    }
   ],
   "source": [
    "res = cross_val_score(OneVsRestClassifier(RandomForestClassifier(n_estimators=100, n_jobs=16)), X, y, cv=10, verbose=2)"
   ]
  },
  {
   "cell_type": "code",
   "execution_count": 22,
   "metadata": {},
   "outputs": [
    {
     "data": {
      "text/plain": [
       "array([ 0.70935961,  0.70935961,  0.74384236,  0.68965517,  0.72772277,\n",
       "        0.72772277,  0.70149254,  0.69154229,  0.65671642,  0.76119403])"
      ]
     },
     "execution_count": 22,
     "metadata": {},
     "output_type": "execute_result"
    }
   ],
   "source": [
    "res"
   ]
  },
  {
   "cell_type": "markdown",
   "metadata": {},
   "source": [
    "### train + val / test"
   ]
  },
  {
   "cell_type": "markdown",
   "metadata": {},
   "source": [
    "**Лендмарки:**"
   ]
  },
  {
   "cell_type": "code",
   "execution_count": 12,
   "metadata": {},
   "outputs": [
    {
     "data": {
      "application/vnd.jupyter.widget-view+json": {
       "model_id": "78dd0d8e6c53497e87772c66c7ad7a2a"
      }
     },
     "metadata": {},
     "output_type": "display_data"
    },
    {
     "data": {
      "application/vnd.jupyter.widget-view+json": {
       "model_id": "17a6dcbb2c7740238a62d61e158fe12a"
      }
     },
     "metadata": {},
     "output_type": "display_data"
    },
    {
     "name": "stdout",
     "output_type": "stream",
     "text": [
      "(20073, 2278) (20073,)\n",
      "(4317, 2278)\n"
     ]
    }
   ],
   "source": [
    "dsts_X_train, dsts_y_train = parse_X_y_flat( dict( np.load('data/dsts_train_sized.npy').item(), \n",
    "                                                   **np.load('data/dsts_val_sized.npy').item() \n",
    "                                                 )\n",
    "                                           )\n",
    "dsts_test = np.load('data/dsts_test_sized.npy').item()\n",
    "dsts_X_test = parse_X_flat(dsts_test)\n",
    "\n",
    "print dsts_X_train.shape, dsts_y_train.shape\n",
    "print dsts_X_test.shape"
   ]
  },
  {
   "cell_type": "code",
   "execution_count": null,
   "metadata": {
    "collapsed": true
   },
   "outputs": [],
   "source": [
    "predictor_dsts = OneVsRestClassifier(RandomForestClassifier(n_estimators=5000, n_jobs=16)).fit(dsts_X_train, dsts_y_train)"
   ]
  },
  {
   "cell_type": "code",
   "execution_count": null,
   "metadata": {
    "collapsed": true
   },
   "outputs": [],
   "source": [
    "tmp_probs = predictor_dsts.predict_proba(dsts_X_test)\n",
    "print tmp_probs.shape"
   ]
  },
  {
   "cell_type": "code",
   "execution_count": null,
   "metadata": {
    "collapsed": true
   },
   "outputs": [],
   "source": [
    "dsts_probs_pred = probs_deflate(tmp_probs, dsts_test)\n",
    "print len(dsts_probs_pred)"
   ]
  },
  {
   "cell_type": "code",
   "execution_count": null,
   "metadata": {
    "collapsed": true
   },
   "outputs": [],
   "source": [
    "np.save('data/probs_dsts_test_sized', dsts_probs_pred)"
   ]
  },
  {
   "cell_type": "markdown",
   "metadata": {},
   "source": [
    "**Нейронки:**"
   ]
  },
  {
   "cell_type": "code",
   "execution_count": 16,
   "metadata": {
    "collapsed": true
   },
   "outputs": [],
   "source": [
    "nn_scores_train_fnames = [\n",
    "    ('data/scores_train.npy_norm=4_model=vgg-face-avgpool.npy', 'data/scores_val.npy_norm=4_model=vgg-face-avgpool.npy'),\n",
    "    ('data/scores_train.npy_norm=4_model=vgg-face-fc7.npy', 'data/scores_val.npy_norm=4_model=vgg-face-fc7.npy'),\n",
    "    ('data/scores_train.npy_norm=3_model=vgg-face-avgpool.npy', 'data/scores_val.npy_norm=3_model=vgg-face-avgpool.npy'),\n",
    "    ('data/scores_train.npy_norm=3_model=vgg-face-fc7.npy', 'data/scores_val.npy_norm=3_model=vgg-face-fc7.npy')\n",
    "]\n",
    "nn_scores_test_fnames = ['data/scores_test.npy_norm=4_model=vgg-face-avgpool.npy',\n",
    "                         'data/scores_test.npy_norm=4_model=vgg-face-fc7.npy',\n",
    "                         'data/scores_test.npy_norm=3_model=vgg-face-avgpool.npy',\n",
    "                         'data/scores_test.npy_norm=3_model=vgg-face-fc7.npy']"
   ]
  },
  {
   "cell_type": "code",
   "execution_count": 17,
   "metadata": {},
   "outputs": [
    {
     "name": "stdout",
     "output_type": "stream",
     "text": [
      "4 4\n"
     ]
    }
   ],
   "source": [
    "nn_scores_train = [dict(np.load(x1).item(), **np.load(x2).item()) for x1, x2 in nn_scores_train_fnames]\n",
    "nn_scores_test = [np.load(x).item() for x in nn_scores_test_fnames]\n",
    "\n",
    "print len(nn_scores_train), len(nn_scores_test)"
   ]
  },
  {
   "cell_type": "code",
   "execution_count": 18,
   "metadata": {},
   "outputs": [
    {
     "data": {
      "application/vnd.jupyter.widget-view+json": {
       "model_id": "a75db237813a44f786c54929b5f74170"
      }
     },
     "metadata": {},
     "output_type": "display_data"
    },
    {
     "data": {
      "application/vnd.jupyter.widget-view+json": {
       "model_id": "99b228112fe34c4da8e9e4b8217f5921"
      }
     },
     "metadata": {},
     "output_type": "display_data"
    },
    {
     "data": {
      "application/vnd.jupyter.widget-view+json": {
       "model_id": "b0dc7e0b3a194806bc988a2b1c908465"
      }
     },
     "metadata": {},
     "output_type": "display_data"
    },
    {
     "data": {
      "application/vnd.jupyter.widget-view+json": {
       "model_id": "d2daafe0a592476b939074e04314808d"
      }
     },
     "metadata": {},
     "output_type": "display_data"
    },
    {
     "data": {
      "application/vnd.jupyter.widget-view+json": {
       "model_id": "e528382065594040b94167a2235fe702"
      }
     },
     "metadata": {},
     "output_type": "display_data"
    }
   ],
   "source": [
    "preds_decl = ['OneVsRestClassifier(RandomForestClassifier(n_estimators=7000, n_jobs=16))',\n",
    "              'OneVsRestClassifier(RandomForestClassifier(n_estimators=2000, n_jobs=16))',\n",
    "              'OneVsRestClassifier(RandomForestClassifier(n_estimators=2000, n_jobs=16))',\n",
    "              'OneVsRestClassifier(RandomForestClassifier(n_estimators=7000, n_jobs=16))']\n",
    "\n",
    "nn_predictors= []\n",
    "for scores, decl in log_progress(zip(nn_scores_train, preds_decl)):\n",
    "    tmp_X, tmp_y, _ = parse_X_y(scores)\n",
    "    nn_predictors.append(eval(decl).fit(tmp_X, tmp_y))"
   ]
  },
  {
   "cell_type": "code",
   "execution_count": 19,
   "metadata": {},
   "outputs": [
    {
     "data": {
      "application/vnd.jupyter.widget-view+json": {
       "model_id": "cf1d672d9be74b2ab5d8cfc1c8ae8a43"
      }
     },
     "metadata": {},
     "output_type": "display_data"
    },
    {
     "data": {
      "application/vnd.jupyter.widget-view+json": {
       "model_id": "d34b313d7c224f6d9d9a0df118bb06a1"
      }
     },
     "metadata": {},
     "output_type": "display_data"
    },
    {
     "data": {
      "application/vnd.jupyter.widget-view+json": {
       "model_id": "5cf3a9224bcd485ea8aeca61aadc509a"
      }
     },
     "metadata": {},
     "output_type": "display_data"
    },
    {
     "data": {
      "application/vnd.jupyter.widget-view+json": {
       "model_id": "afe9ec521cee451b9094a71784820737"
      }
     },
     "metadata": {},
     "output_type": "display_data"
    },
    {
     "data": {
      "application/vnd.jupyter.widget-view+json": {
       "model_id": "2617b9cbeb30480fa94facf2b9bef158"
      }
     },
     "metadata": {},
     "output_type": "display_data"
    }
   ],
   "source": [
    "nn_probs_pred = []\n",
    "\n",
    "for scores, predictor in log_progress(zip(nn_scores_test, nn_predictors)):\n",
    "    tmp_X, fnames = parse_X(scores)\n",
    "    tmp_probs = predictor.predict_proba(tmp_X)\n",
    "    nn_probs_pred.append(dict(zip(fnames, tmp_probs)))\n",
    "#     break"
   ]
  },
  {
   "cell_type": "code",
   "execution_count": 20,
   "metadata": {
    "collapsed": true
   },
   "outputs": [],
   "source": [
    "np.save('data/probs_nn_test_x2', nn_probs_pred)"
   ]
  },
  {
   "cell_type": "markdown",
   "metadata": {},
   "source": [
    "## 4. Тест ансамбля"
   ]
  },
  {
   "cell_type": "code",
   "execution_count": 5,
   "metadata": {
    "collapsed": true
   },
   "outputs": [],
   "source": [
    "probs_dsts_fname = 'data/probs_dsts_val_sized.npy'\n",
    "probs_nn_fname = 'data/probs_nn_val.npy'\n",
    "probs_frames_fname = 'data/probs_frames_val.npy'"
   ]
  },
  {
   "cell_type": "code",
   "execution_count": 6,
   "metadata": {
    "collapsed": true
   },
   "outputs": [],
   "source": [
    "probs_dsts = np.load(probs_dsts_fname).item()\n",
    "probs_nn = np.load(probs_nn_fname)\n",
    "probs_frames = np.load(probs_frames_fname).item()"
   ]
  },
  {
   "cell_type": "code",
   "execution_count": 7,
   "metadata": {},
   "outputs": [
    {
     "name": "stdout",
     "output_type": "stream",
     "text": [
      "0.0141784866741 1.19587458746 0.863800733867 21.3868224982\n"
     ]
    }
   ],
   "source": [
    "print np.min(probs_dsts.values()), np.mean(probs_dsts.values()), np.median(probs_dsts.values()), np.max(probs_dsts.values())"
   ]
  },
  {
   "cell_type": "code",
   "execution_count": 8,
   "metadata": {},
   "outputs": [
    {
     "name": "stdout",
     "output_type": "stream",
     "text": [
      "0.0138257575758 0.333333333333 0.317539199658 0.944839071475\n"
     ]
    }
   ],
   "source": [
    "print np.min(probs_nn[0].values()), np.mean(probs_nn[0].values()), np.median(probs_nn[0].values()), np.max(probs_nn[0].values())"
   ]
  },
  {
   "cell_type": "code",
   "execution_count": 9,
   "metadata": {},
   "outputs": [
    {
     "name": "stdout",
     "output_type": "stream",
     "text": [
      "2065\n"
     ]
    }
   ],
   "source": [
    "ys_true = np.load('data/y_val.npy').item()\n",
    "print len(ys_true)"
   ]
  },
  {
   "cell_type": "raw",
   "metadata": {},
   "source": [
    "y_true = []\n",
    "y_pred = []\n",
    "\n",
    "weight_dsts = 0.5\n",
    "weights_nn = [0.7, 0.7, 0.7, 0.7]\n",
    "\n",
    "for fname in log_progress(probs_dsts.keys()):\n",
    "    preds = np.zeros((3,))\n",
    "    preds += probs_dsts[fname] * weight_dsts\n",
    "    for tmp_probs, w in zip(probs_nn, weights_nn):\n",
    "        preds += tmp_probs[fname] * w\n",
    "    y_pred.append(np.argmax(preds))\n",
    "    y_true.append(ys_true[fname])\n",
    "#     break\n",
    "    \n",
    "y_true = np.asarray(y_true)\n",
    "y_pred = np.asarray(y_pred)"
   ]
  },
  {
   "cell_type": "code",
   "execution_count": 10,
   "metadata": {},
   "outputs": [
    {
     "data": {
      "application/vnd.jupyter.widget-view+json": {
       "model_id": "0e8038d5b0b649fab14cb53d87475b48"
      }
     },
     "metadata": {},
     "output_type": "display_data"
    },
    {
     "name": "stdout",
     "output_type": "stream",
     "text": [
      "0.75396039604\n"
     ]
    }
   ],
   "source": [
    "y_true = []\n",
    "y_pred = []\n",
    "\n",
    "weight_dsts = 0.6\n",
    "weigths_frames = 0.86\n",
    "weights_nn = [0.7, 0.7, 0.7, 0.7]\n",
    "\n",
    "for fname in log_progress(probs_dsts.keys()):\n",
    "    preds = np.zeros((3,))\n",
    "    if probs_dsts[fname].max() < 3.6:\n",
    "        preds += probs_dsts[fname] * weight_dsts\n",
    "    else:\n",
    "        preds += probs_dsts[fname] * weight_dsts / np.max(probs_dsts[fname])\n",
    "    preds += probs_frames[fname] * weigths_frames\n",
    "    for tmp_probs, w in zip(probs_nn, weights_nn):\n",
    "        preds += tmp_probs[fname] * w\n",
    "    y_pred.append(np.argmax(preds))\n",
    "    y_true.append(ys_true[fname])\n",
    "#     break\n",
    "    \n",
    "y_true = np.asarray(y_true)\n",
    "y_pred = np.asarray(y_pred)\n",
    "\n",
    "print np.mean(y_true == y_pred)"
   ]
  },
  {
   "cell_type": "code",
   "execution_count": 36,
   "metadata": {
    "collapsed": true
   },
   "outputs": [
    {
     "name": "stdout",
     "output_type": "stream",
     "text": [
      "[[ 0.8   0.13  0.07]\n",
      " [ 0.26  0.66  0.07]\n",
      " [ 0.06  0.14  0.8 ]]\n"
     ]
    },
    {
     "data": {
      "image/png": "[encoded data removed]",
      "text/plain": [
       "<matplotlib.figure.Figure at 0x7ff500576a50>"
      ]
     },
     "metadata": {},
     "output_type": "display_data"
    }
   ],
   "source": [
    "cmtx = confusion_matrix(y_true, y_pred)\n",
    "plot_confusion_matrix(cmtx, ['Negative', 'Neutral', 'Positive'], normalize=True)"
   ]
  },
  {
   "cell_type": "markdown",
   "metadata": {
    "collapsed": true
   },
   "source": [
    "## 5. Сабмишн"
   ]
  },
  {
   "cell_type": "code",
   "execution_count": 5,
   "metadata": {
    "collapsed": true
   },
   "outputs": [],
   "source": [
    "probs_dsts_fname = 'data/probs_dsts_test_x2_sized.npy'\n",
    "weight_dsts = 0.6\n",
    "\n",
    "probs_frames_fname = 'data/probs_frames_test.npy'\n",
    "weight_frames = 0.86\n",
    "\n",
    "probs_nn_fname = 'data/probs_nn_test_x2.npy'\n",
    "weights_nn = [0.7, 0.7, 0.7, 0.7]"
   ]
  },
  {
   "cell_type": "code",
   "execution_count": 6,
   "metadata": {},
   "outputs": [
    {
     "name": "stdout",
     "output_type": "stream",
     "text": [
      "715 (4,) 770\n"
     ]
    }
   ],
   "source": [
    "probs_dsts = np.load(probs_dsts_fname).item()\n",
    "probs_nn = np.load(probs_nn_fname)\n",
    "probs_frames = np.load(probs_frames_fname).item()\n",
    "\n",
    "print len(probs_dsts), probs_nn.shape, len(probs_frames)"
   ]
  },
  {
   "cell_type": "raw",
   "metadata": {},
   "source": [
    "predictions = {}\n",
    "\n",
    "for fname in log_progress(probs_dsts.keys()):\n",
    "    preds = np.zeros((3,))\n",
    "    preds += probs_dsts[fname] * weight_dsts\n",
    "    for tmp_probs, w in zip(probs_nn, weights_nn):\n",
    "        preds += tmp_probs[fname] * w\n",
    "    predictions[fname] = np.argmax(preds)\n",
    "#     break"
   ]
  },
  {
   "cell_type": "code",
   "execution_count": 7,
   "metadata": {},
   "outputs": [
    {
     "data": {
      "application/vnd.jupyter.widget-view+json": {
       "model_id": "dd2364f7a8ac473aa4f568fc326b70b7"
      }
     },
     "metadata": {},
     "output_type": "display_data"
    }
   ],
   "source": [
    "predictions = {}\n",
    "\n",
    "for fname in log_progress(probs_dsts.keys()):\n",
    "    preds = np.zeros((3,))\n",
    "    if probs_dsts[fname].max() < 3.6:\n",
    "        preds += probs_dsts[fname] * weight_dsts\n",
    "    else:\n",
    "        preds += probs_dsts[fname] * weight_dsts / np.max(probs_dsts[fname])\n",
    "    preds += probs_frames[fname] * weight_frames\n",
    "    for tmp_probs, w in zip(probs_nn, weights_nn):\n",
    "        preds += tmp_probs[fname] * w\n",
    "    predictions[fname] = np.argmax(preds)\n",
    "#     break"
   ]
  },
  {
   "cell_type": "code",
   "execution_count": 8,
   "metadata": {
    "collapsed": true
   },
   "outputs": [],
   "source": [
    "SUBMISSION_OUT_DIR = 'submission5'"
   ]
  },
  {
   "cell_type": "code",
   "execution_count": 9,
   "metadata": {},
   "outputs": [
    {
     "data": {
      "application/vnd.jupyter.widget-view+json": {
       "model_id": "d303d91531b645aaa3e8341bb01c3873"
      }
     },
     "metadata": {},
     "output_type": "display_data"
    }
   ],
   "source": [
    "if not os.path.exists(SUBMISSION_OUT_DIR):\n",
    "    os.makedirs(SUBMISSION_OUT_DIR)\n",
    "    \n",
    "for fname in log_progress(probs_frames.keys()):\n",
    "    if predictions.get(fname, None) is None:\n",
    "        predicted = np.argmax(probs_frames[fname])\n",
    "    else:\n",
    "        predicted = predictions[fname]\n",
    "    fname = os.path.basename(fname)\n",
    "    if fname == 'family-get-together-002.png':\n",
    "        fname = 'family-get-together-002_1.png'\n",
    "    fname = '.'.join(fname.split('.')[:-1])\n",
    "    if fname == 'Prime_Minister_Narendra_Modi_with_French_President_FranЗois_Hollande_at_the_G20_Summit':\n",
    "        fname = 'Prime_Minister_Narendra_Modi_with_French_President_Francis_Hollande_at_the_G20_Summit'\n",
    "    f = open(os.path.join(SUBMISSION_OUT_DIR, fname + '.txt'), 'w')\n",
    "    f.write('{}'.format(LBL2CLASS[predicted]))\n",
    "    f.flush()\n",
    "    f.close()"
   ]
  },
  {
   "cell_type": "markdown",
   "metadata": {},
   "source": [
    "---"
   ]
  },
  {
   "cell_type": "code",
   "execution_count": 14,
   "metadata": {},
   "outputs": [
    {
     "data": {
      "application/vnd.jupyter.widget-view+json": {
       "model_id": "8423c7bdf3ae46088d6138e48f7fc184"
      }
     },
     "metadata": {},
     "output_type": "display_data"
    }
   ],
   "source": [
    "f = open('data/subm.list', 'w')\n",
    "for fname in log_progress(predictions.keys()):\n",
    "    f.write('{}\\n'.format(os.path.basename(fname)))\n",
    "f.flush()\n",
    "f.close()"
   ]
  }
 ],
 "metadata": {
  "kernelspec": {
   "display_name": "Python 2",
   "language": "python",
   "name": "python2"
  },
  "language_info": {
   "codemirror_mode": {
    "name": "ipython",
    "version": 2
   },
   "file_extension": ".py",
   "mimetype": "text/x-python",
   "name": "python",
   "nbconvert_exporter": "python",
   "pygments_lexer": "ipython2",
   "version": "2.7.12"
  }
 },
 "nbformat": 4,
 "nbformat_minor": 2
}
